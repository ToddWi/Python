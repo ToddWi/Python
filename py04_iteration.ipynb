{
  "nbformat": 4,
  "nbformat_minor": 0,
  "metadata": {
    "colab": {
      "provenance": [],
      "toc_visible": true,
      "authorship_tag": "ABX9TyNaPl/OCaslEOnp8zcZWkeu",
      "include_colab_link": true
    },
    "kernelspec": {
      "name": "python3",
      "display_name": "Python 3"
    },
    "language_info": {
      "name": "python"
    }
  },
  "cells": [
    {
      "cell_type": "markdown",
      "metadata": {
        "id": "view-in-github",
        "colab_type": "text"
      },
      "source": [
        "<a href=\"https://colab.research.google.com/github/ToddWi/Python/blob/main/py04_iteration.ipynb\" target=\"_parent\"><img src=\"https://colab.research.google.com/assets/colab-badge.svg\" alt=\"Open In Colab\"/></a>"
      ]
    },
    {
      "cell_type": "markdown",
      "source": [
        "# for 반복문\n",
        "\n",
        "```\n",
        "for 변수 in iterable_type:\n",
        "  반복해서 실행할 코드 블록\n",
        "```\n",
        "\n",
        "* iterable_type: 반복가능한 타입\n",
        "  * range, list, tuple, dict, set, str, ...\n",
        "* `range()` 함수:\n",
        "  * `range(stop)`: 0 <= x < stop 범위의 1씩 증가하는 정수들을 차례로 반환.\n",
        "  * `range(start, stop)`: start <= x < stop 범위의 1씩 증가하는 정수들을 차례로 반환.\n",
        "  * `range(start, stop, step)`:\n",
        "    * step > 0: start <= x < stop 범위의 step 만큼씩 증가하는 정수들을 차례로 반환.\n",
        "    * step < 0: start >= x > stop 범위의 step 만큼씩 감소하는 정수들을 차례로 반환."
      ],
      "metadata": {
        "id": "mHWWIbCnMFjG"
      }
    },
    {
      "cell_type": "code",
      "source": [
        "for x in range(5):\n",
        "    print(x)"
      ],
      "metadata": {
        "colab": {
          "base_uri": "https://localhost:8080/"
        },
        "id": "LRL2PKvTOgNf",
        "outputId": "bd2d69e1-9ae5-4236-ceb0-caba5067e178"
      },
      "execution_count": null,
      "outputs": [
        {
          "output_type": "stream",
          "name": "stdout",
          "text": [
            "0\n",
            "1\n",
            "2\n",
            "3\n",
            "4\n"
          ]
        }
      ]
    },
    {
      "cell_type": "code",
      "source": [
        "for x in range(1, 3):\n",
        "  print(x)"
      ],
      "metadata": {
        "colab": {
          "base_uri": "https://localhost:8080/"
        },
        "id": "TMClbi2sOsxW",
        "outputId": "0c3a2662-302e-4510-e977-293ed50f1450"
      },
      "execution_count": null,
      "outputs": [
        {
          "output_type": "stream",
          "name": "stdout",
          "text": [
            "1\n",
            "2\n"
          ]
        }
      ]
    },
    {
      "cell_type": "code",
      "source": [
        "for x in range(0, 11, 2):\n",
        "  print(x)"
      ],
      "metadata": {
        "colab": {
          "base_uri": "https://localhost:8080/"
        },
        "id": "2_DAcSlcP4gy",
        "outputId": "ef0cace1-0188-4d35-82bd-d0792e7cd237"
      },
      "execution_count": null,
      "outputs": [
        {
          "output_type": "stream",
          "name": "stdout",
          "text": [
            "0\n",
            "2\n",
            "4\n",
            "6\n",
            "8\n",
            "10\n"
          ]
        }
      ]
    },
    {
      "cell_type": "code",
      "source": [
        "for x in range(10, 0, -2):\n",
        "    print(x)\n"
      ],
      "metadata": {
        "colab": {
          "base_uri": "https://localhost:8080/"
        },
        "id": "TfBYttwZQFQi",
        "outputId": "20a5aa7e-1b97-46a9-b29a-471b6e829125"
      },
      "execution_count": null,
      "outputs": [
        {
          "output_type": "stream",
          "name": "stdout",
          "text": [
            "10\n",
            "8\n",
            "6\n",
            "4\n",
            "2\n"
          ]
        }
      ]
    },
    {
      "cell_type": "markdown",
      "source": [
        "#  중첩 반복문\n",
        "\n",
        "```\n",
        "  for x in iterable1:\n",
        "    for y in iterable2:\n",
        "        코드 블록"
      ],
      "metadata": {
        "id": "eCIF9dNrQTuk"
      }
    },
    {
      "cell_type": "code",
      "source": [
        "for x in range(2, 10, 1):\n",
        "  for y in range(1, 10, 1):\n",
        "    print(f'{x} x {y} =  {x * y}')\n",
        "  print('-' * 10)"
      ],
      "metadata": {
        "colab": {
          "base_uri": "https://localhost:8080/"
        },
        "id": "VukQu4ULQfJX",
        "outputId": "d8e2988e-c110-46fd-ad88-42c982973e4c"
      },
      "execution_count": null,
      "outputs": [
        {
          "output_type": "stream",
          "name": "stdout",
          "text": [
            "2 x 1 =  2\n",
            "2 x 2 =  4\n",
            "2 x 3 =  6\n",
            "2 x 4 =  8\n",
            "2 x 5 =  10\n",
            "2 x 6 =  12\n",
            "2 x 7 =  14\n",
            "2 x 8 =  16\n",
            "2 x 9 =  18\n",
            "----------\n",
            "3 x 1 =  3\n",
            "3 x 2 =  6\n",
            "3 x 3 =  9\n",
            "3 x 4 =  12\n",
            "3 x 5 =  15\n",
            "3 x 6 =  18\n",
            "3 x 7 =  21\n",
            "3 x 8 =  24\n",
            "3 x 9 =  27\n",
            "----------\n",
            "4 x 1 =  4\n",
            "4 x 2 =  8\n",
            "4 x 3 =  12\n",
            "4 x 4 =  16\n",
            "4 x 5 =  20\n",
            "4 x 6 =  24\n",
            "4 x 7 =  28\n",
            "4 x 8 =  32\n",
            "4 x 9 =  36\n",
            "----------\n",
            "5 x 1 =  5\n",
            "5 x 2 =  10\n",
            "5 x 3 =  15\n",
            "5 x 4 =  20\n",
            "5 x 5 =  25\n",
            "5 x 6 =  30\n",
            "5 x 7 =  35\n",
            "5 x 8 =  40\n",
            "5 x 9 =  45\n",
            "----------\n",
            "6 x 1 =  6\n",
            "6 x 2 =  12\n",
            "6 x 3 =  18\n",
            "6 x 4 =  24\n",
            "6 x 5 =  30\n",
            "6 x 6 =  36\n",
            "6 x 7 =  42\n",
            "6 x 8 =  48\n",
            "6 x 9 =  54\n",
            "----------\n",
            "7 x 1 =  7\n",
            "7 x 2 =  14\n",
            "7 x 3 =  21\n",
            "7 x 4 =  28\n",
            "7 x 5 =  35\n",
            "7 x 6 =  42\n",
            "7 x 7 =  49\n",
            "7 x 8 =  56\n",
            "7 x 9 =  63\n",
            "----------\n",
            "8 x 1 =  8\n",
            "8 x 2 =  16\n",
            "8 x 3 =  24\n",
            "8 x 4 =  32\n",
            "8 x 5 =  40\n",
            "8 x 6 =  48\n",
            "8 x 7 =  56\n",
            "8 x 8 =  64\n",
            "8 x 9 =  72\n",
            "----------\n",
            "9 x 1 =  9\n",
            "9 x 2 =  18\n",
            "9 x 3 =  27\n",
            "9 x 4 =  36\n",
            "9 x 5 =  45\n",
            "9 x 6 =  54\n",
            "9 x 7 =  63\n",
            "9 x 8 =  72\n",
            "9 x 9 =  81\n",
            "----------\n"
          ]
        }
      ]
    },
    {
      "cell_type": "markdown",
      "source": [
        "문자열에서 사용 가능한 산술 연산자:\n",
        "\n",
        "* 문자열 `+` 문자열: 문자열 이어붙이기(concatenate)\n",
        "* 문자열 `*` 정수: 문자열 반복해서 복사하기"
      ],
      "metadata": {
        "id": "mD0xAmLcTTIE"
      }
    },
    {
      "cell_type": "markdown",
      "source": [
        "# break와 continue\n",
        "\n",
        "* `break`: 반복(iteration)을 종료. break가 포함된 가장 가까운 반복문을 빠져나옴.\n",
        "* `continue`: 반복문 내부의 실행을 멈추고, 그 다음 iteration을 계속해서 수행."
      ],
      "metadata": {
        "id": "az3m7pbhT3j7"
      }
    },
    {
      "cell_type": "code",
      "source": [
        "for x in range(5): # (0, 1, 2, 3, 4)\n",
        "    if x == 2:\n",
        "        break\n",
        "    print(x)"
      ],
      "metadata": {
        "colab": {
          "base_uri": "https://localhost:8080/"
        },
        "id": "lbBObMogUe5v",
        "outputId": "ae6bb7bf-709a-45be-8187-74e68f62268c"
      },
      "execution_count": null,
      "outputs": [
        {
          "output_type": "stream",
          "name": "stdout",
          "text": [
            "0\n",
            "1\n"
          ]
        }
      ]
    },
    {
      "cell_type": "code",
      "source": [
        "for x in range(5):\n",
        "    if x == 2:\n",
        "        continue\n",
        "    print(x)"
      ],
      "metadata": {
        "colab": {
          "base_uri": "https://localhost:8080/"
        },
        "id": "v8maVuQTVQCG",
        "outputId": "c8b6c3e2-3408-4023-bbaa-b39cf2364b9c"
      },
      "execution_count": null,
      "outputs": [
        {
          "output_type": "stream",
          "name": "stdout",
          "text": [
            "0\n",
            "1\n",
            "3\n",
            "4\n"
          ]
        }
      ]
    },
    {
      "cell_type": "markdown",
      "source": [
        "다음과 같이 출력."
      ],
      "metadata": {
        "id": "l0d5UTMcWRiT"
      }
    },
    {
      "cell_type": "code",
      "source": [
        "for x in range(2, 6):\n",
        "  for y in range(1, 6):\n",
        "    print(f'{x} * {y} = {x * y}')\n",
        "    if y == x:\n",
        "      break\n",
        "  print('-' * 10)\n"
      ],
      "metadata": {
        "colab": {
          "base_uri": "https://localhost:8080/"
        },
        "id": "Ivr-E8IaXaZv",
        "outputId": "3f00cba3-4af4-45be-9aea-d3d4efbb9a7f"
      },
      "execution_count": null,
      "outputs": [
        {
          "output_type": "stream",
          "name": "stdout",
          "text": [
            "2 * 1 = 2\n",
            "2 * 2 = 4\n",
            "----------\n",
            "3 * 1 = 3\n",
            "3 * 2 = 6\n",
            "3 * 3 = 9\n",
            "----------\n",
            "4 * 1 = 4\n",
            "4 * 2 = 8\n",
            "4 * 3 = 12\n",
            "4 * 4 = 16\n",
            "----------\n",
            "5 * 1 = 5\n",
            "5 * 2 = 10\n",
            "5 * 3 = 15\n",
            "5 * 4 = 20\n",
            "5 * 5 = 25\n",
            "----------\n"
          ]
        }
      ]
    }
  ]
}