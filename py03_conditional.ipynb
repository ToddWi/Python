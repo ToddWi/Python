{
  "nbformat": 4,
  "nbformat_minor": 0,
  "metadata": {
    "colab": {
      "provenance": [],
      "authorship_tag": "ABX9TyNzR2Gc/SpYjfHHjWDvFQfs",
      "include_colab_link": true
    },
    "kernelspec": {
      "name": "python3",
      "display_name": "Python 3"
    },
    "language_info": {
      "name": "python"
    }
  },
  "cells": [
    {
      "cell_type": "markdown",
      "metadata": {
        "id": "view-in-github",
        "colab_type": "text"
      },
      "source": [
        "<a href=\"https://colab.research.google.com/github/ToddWi/Python/blob/main/py03_conditional.ipynb\" target=\"_parent\"><img src=\"https://colab.research.google.com/assets/colab-badge.svg\" alt=\"Open In Colab\"/></a>"
      ]
    },
    {
      "cell_type": "markdown",
      "source": [
        "# else가 없는 조건문\n",
        "```\n",
        "if조건식:\n",
        "  조건식이 참일 때 실행할 코드 (블록)\n",
        "```\n",
        "\n",
        "* `if 조건식` 뒤에는 반드시 콜론(:)을 사용해야 함.\n",
        "* 코드 블록을 작성할 때 `{}`를 사용하지 않음.\n",
        "* `if` 블록 안의 문장들은 반드시 같은 크기로 들여쓰기(indentation)을 해야 함."
      ],
      "metadata": {
        "id": "6kYV5kAJxjgv"
      }
    },
    {
      "cell_type": "code",
      "source": [
        "n = -100"
      ],
      "metadata": {
        "id": "utslTiG8zuQl"
      },
      "execution_count": null,
      "outputs": []
    },
    {
      "cell_type": "code",
      "execution_count": null,
      "metadata": {
        "colab": {
          "base_uri": "https://localhost:8080/"
        },
        "id": "Y4UJY5u4xNBl",
        "outputId": "e22043ee-88ed-4d3e-c671-db33fd24f7a4"
      },
      "outputs": [
        {
          "output_type": "stream",
          "name": "stdout",
          "text": [
            "if 블록 바깥\n"
          ]
        }
      ],
      "source": [
        "if n > 0:\n",
        "    print('양수')\n",
        "    print('if 블록 끝')\n",
        "print('if 블록 바깥') # if 블록과 상관없이 무조건 실행하는 문장."
      ]
    },
    {
      "cell_type": "markdown",
      "source": [
        "# else가 있는 조건문\n",
        "```\n",
        "if 조건식:\n",
        "    참일 때 실행할 코드 블록\n",
        "else:\n",
        "    거짓일 때 실행할 코드 블록\n",
        "```"
      ],
      "metadata": {
        "id": "hki08gXc06CE"
      }
    },
    {
      "cell_type": "code",
      "source": [
        "n = 123\n",
        "if n % 2 == 1:\n",
        "    print('홀수')\n",
        "else:\n",
        "    print('짝수')"
      ],
      "metadata": {
        "colab": {
          "base_uri": "https://localhost:8080/"
        },
        "id": "dvpnE-WP1dR8",
        "outputId": "5a316173-1779-49f2-8e6e-5e5d238bc94d"
      },
      "execution_count": null,
      "outputs": [
        {
          "output_type": "stream",
          "name": "stdout",
          "text": [
            "홀수\n"
          ]
        }
      ]
    },
    {
      "cell_type": "markdown",
      "source": [
        "파이썬에서 참(True)로 취급하는 값:\n",
        "\n",
        "* 0이 아닌 숫자들.\n",
        "* 1개 이상의 문자를 가지고 있는 문자열.\n",
        "* 1개 이상의 원소를 가지고 있는 리스트(와 비슷한 객체)"
      ],
      "metadata": {
        "id": "McL4XuPz2NTs"
      }
    },
    {
      "cell_type": "markdown",
      "source": [
        "# chained conditional\n",
        "```\n",
        "if 조건식1:\n",
        "    조건식1이 참일 때 실행할 코드 블록\n",
        "elif 조건식2:\n",
        "    조건식1이 거짓이고, 조건식2가 참일 때 실행할 코드 블록\n",
        "...\n",
        "else:\n",
        "    위의 모든 조건이 거짓일 때 실행할 코드 블록\n",
        "\n",
        "```"
      ],
      "metadata": {
        "id": "d7J45oRu3AW7"
      }
    },
    {
      "cell_type": "markdown",
      "source": [
        "Ex1. 정수 3개를 입력받고 변수에 저장. 평균이 90 이상이면 'A', 80 이상이면 'B',\n",
        "70 이상이면 'C', 70 미만이면 'F'를 출력"
      ],
      "metadata": {
        "id": "nABEaOAh37eM"
      }
    },
    {
      "cell_type": "code",
      "source": [
        "x = 50\n",
        "y = 90\n",
        "z = 60"
      ],
      "metadata": {
        "id": "TlLLs5Cy4MYW"
      },
      "execution_count": null,
      "outputs": []
    },
    {
      "cell_type": "code",
      "source": [
        "if (x + y + z) / 3 >= 90:\n",
        "    print('A')\n",
        "elif (x + y + z) / 3 >= 80:\n",
        "    print('B')\n",
        "elif (x + y + z) / 3 >= 70:\n",
        "    print('C')\n",
        "else:\n",
        "    print('F')"
      ],
      "metadata": {
        "colab": {
          "base_uri": "https://localhost:8080/"
        },
        "id": "PxFr8QvZ4YH-",
        "outputId": "2062866e-9083-45ad-ba8a-336c5799018f"
      },
      "execution_count": null,
      "outputs": [
        {
          "output_type": "stream",
          "name": "stdout",
          "text": [
            "F\n"
          ]
        }
      ]
    },
    {
      "cell_type": "code",
      "source": [
        "avg = (x + y + z) / 3\n",
        "print(f'평균 = {average}')"
      ],
      "metadata": {
        "id": "b43-x0qN5fp8"
      },
      "execution_count": null,
      "outputs": []
    },
    {
      "cell_type": "code",
      "source": [],
      "metadata": {
        "id": "uzWbRVfCLphk"
      },
      "execution_count": null,
      "outputs": []
    }
  ]
}