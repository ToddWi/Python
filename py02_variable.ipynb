{
  "nbformat": 4,
  "nbformat_minor": 0,
  "metadata": {
    "colab": {
      "provenance": [],
      "authorship_tag": "ABX9TyPsaPr7PXAdg5mOUmzNHv/f",
      "include_colab_link": true
    },
    "kernelspec": {
      "name": "python3",
      "display_name": "Python 3"
    },
    "language_info": {
      "name": "python"
    }
  },
  "cells": [
    {
      "cell_type": "markdown",
      "metadata": {
        "id": "view-in-github",
        "colab_type": "text"
      },
      "source": [
        "<a href=\"https://colab.research.google.com/github/ToddWi/Python/blob/main/py02_variable.ipynb\" target=\"_parent\"><img src=\"https://colab.research.google.com/assets/colab-badge.svg\" alt=\"Open In Colab\"/></a>"
      ]
    },
    {
      "cell_type": "markdown",
      "source": [
        "# 파이썬 자료 타입(data type)\n",
        "\n",
        "* 숫자 타입\n",
        "  * 변수가 선언되는 시점에 타입을 식별하는 자바와는 달리 파이썬은 변수가 실행되는 때 변수의 타입이 결정된다.\n",
        "  * `int`: 정수\n",
        "  * `float`: 실수\n",
        "* 문자열 타입\n",
        "  * `str`\n",
        "* 논리 타입\n",
        "  * `bool` : True/False (파이썬에서는 첫 철자를 대문자로 적어주어야함을 유의)\n",
        "* 객체 타입\n",
        "\n",
        "파이썬에서는 변수를 선언할 때 자료 타입을 명시하지 않음.\n",
        "\n",
        "변수의 자료 타입은 코드가 실행 때 결정됨.\n"
      ],
      "metadata": {
        "id": "EFEj4f3omiyD"
      }
    },
    {
      "cell_type": "code",
      "source": [
        "pi = 3.14\n",
        "print(pi)\n",
        "type(pi) # print(type(pi))"
      ],
      "metadata": {
        "colab": {
          "base_uri": "https://localhost:8080/"
        },
        "id": "4osrY4OWoazW",
        "outputId": "98ee6914-7407-4d7f-c078-6b5a20223c40"
      },
      "execution_count": null,
      "outputs": [
        {
          "output_type": "stream",
          "name": "stdout",
          "text": [
            "3.14\n"
          ]
        },
        {
          "output_type": "execute_result",
          "data": {
            "text/plain": [
              "float"
            ]
          },
          "metadata": {},
          "execution_count": 1
        }
      ]
    },
    {
      "cell_type": "markdown",
      "source": [
        "## 명시적 타입 변환\n",
        "\n",
        "* `int(arg)`: arg를 정수 타입으로 변환해서 리턴.\n",
        "* `float(arg)`: arg를 실수 타입으로 변환해서 리턴.\n",
        "* `str(arg)`: arg를 문자열로 변환해서 리턴."
      ],
      "metadata": {
        "id": "fNvB4Q33pC93"
      }
    },
    {
      "cell_type": "code",
      "execution_count": null,
      "metadata": {
        "colab": {
          "base_uri": "https://localhost:8080/"
        },
        "id": "A9LqebEZlfAH",
        "outputId": "2f225604-96bf-4047-a764-107fed4cba4d"
      },
      "outputs": [
        {
          "name": "stdout",
          "output_type": "stream",
          "text": [
            "정수 입력>>> 123\n"
          ]
        }
      ],
      "source": [
        "# Colab 노트북에서 콘솔 입력:\n",
        "n = input('정수 입력>>> ')"
      ]
    },
    {
      "cell_type": "code",
      "source": [
        "type(n)"
      ],
      "metadata": {
        "colab": {
          "base_uri": "https://localhost:8080/"
        },
        "id": "zltRlrqkqxGo",
        "outputId": "a3c30251-37e4-4005-ac08-cd004d1f1a76"
      },
      "execution_count": null,
      "outputs": [
        {
          "output_type": "execute_result",
          "data": {
            "text/plain": [
              "str"
            ]
          },
          "metadata": {},
          "execution_count": 3
        }
      ]
    },
    {
      "cell_type": "code",
      "source": [
        "int(n) + 1 # 123+ 1"
      ],
      "metadata": {
        "colab": {
          "base_uri": "https://localhost:8080/"
        },
        "id": "yvloq7sRqyzP",
        "outputId": "48fe817b-79dc-4f68-c352-912c39339194"
      },
      "execution_count": null,
      "outputs": [
        {
          "output_type": "execute_result",
          "data": {
            "text/plain": [
              "124"
            ]
          },
          "metadata": {},
          "execution_count": 4
        }
      ]
    },
    {
      "cell_type": "code",
      "source": [
        "n + str(1) # '123' + '1'"
      ],
      "metadata": {
        "colab": {
          "base_uri": "https://localhost:8080/",
          "height": 35
        },
        "id": "M_z3HP2Eq2Z3",
        "outputId": "3e4bc09e-e302-407d-ddf7-a56780d00751"
      },
      "execution_count": null,
      "outputs": [
        {
          "output_type": "execute_result",
          "data": {
            "text/plain": [
              "'1231'"
            ],
            "application/vnd.google.colaboratory.intrinsic+json": {
              "type": "string"
            }
          },
          "metadata": {},
          "execution_count": 5
        }
      ]
    },
    {
      "cell_type": "markdown",
      "source": [
        "# 산술 연산자\n",
        "\n",
        "`+, -, *, /, //, %, **`\n",
        "\n",
        "* `/`: 소수점까지 계산하는 나눗셈.\n",
        "* `//`: 나눈 몫.\n",
        "* `%`: 나눈 나머지.\n",
        "* `**`: 거듭제곱."
      ],
      "metadata": {
        "id": "Y2NBkzphrK6P"
      }
    },
    {
      "cell_type": "code",
      "source": [
        "10/3"
      ],
      "metadata": {
        "colab": {
          "base_uri": "https://localhost:8080/"
        },
        "id": "WUBLlIgXr86W",
        "outputId": "f99e09df-a83b-4591-d7e2-0330da3d6cba"
      },
      "execution_count": null,
      "outputs": [
        {
          "output_type": "execute_result",
          "data": {
            "text/plain": [
              "3.3333333333333335"
            ]
          },
          "metadata": {},
          "execution_count": 6
        }
      ]
    },
    {
      "cell_type": "code",
      "source": [
        "10 // 3"
      ],
      "metadata": {
        "colab": {
          "base_uri": "https://localhost:8080/"
        },
        "id": "pIQQq9D3r-lm",
        "outputId": "289d2c22-a666-4aa5-81ef-7fffed0dbfb8"
      },
      "execution_count": null,
      "outputs": [
        {
          "output_type": "execute_result",
          "data": {
            "text/plain": [
              "3"
            ]
          },
          "metadata": {},
          "execution_count": 8
        }
      ]
    },
    {
      "cell_type": "code",
      "source": [
        "10 % 3"
      ],
      "metadata": {
        "colab": {
          "base_uri": "https://localhost:8080/"
        },
        "id": "kVlS16IYr_sm",
        "outputId": "b16522f7-09f6-47c0-bc75-fb6619ac46c1"
      },
      "execution_count": null,
      "outputs": [
        {
          "output_type": "execute_result",
          "data": {
            "text/plain": [
              "1"
            ]
          },
          "metadata": {},
          "execution_count": 9
        }
      ]
    },
    {
      "cell_type": "code",
      "source": [
        "10 ** 3\n",
        "10 ** -1"
      ],
      "metadata": {
        "colab": {
          "base_uri": "https://localhost:8080/"
        },
        "id": "d7QHwPwAsEKu",
        "outputId": "d6388742-0d1e-4835-96ce-e00cfcbbb2b9"
      },
      "execution_count": null,
      "outputs": [
        {
          "output_type": "execute_result",
          "data": {
            "text/plain": [
              "0.1"
            ]
          },
          "metadata": {},
          "execution_count": 11
        }
      ]
    },
    {
      "cell_type": "markdown",
      "source": [
        "# 비교 연산자, 논리 연산자\n",
        "\n",
        "* 비교 연산자: `==, !=, >, >=, <, <=`\n",
        "* 논리 연산자: and, or, not"
      ],
      "metadata": {
        "id": "17x3KmAJsTnO"
      }
    },
    {
      "cell_type": "code",
      "source": [
        "x = 100\n",
        "(x > 50) and (x < 150)"
      ],
      "metadata": {
        "colab": {
          "base_uri": "https://localhost:8080/"
        },
        "id": "Xz_z7L6jsrK2",
        "outputId": "e78f5209-ce4d-4e37-be8b-018d19a88da8"
      },
      "execution_count": null,
      "outputs": [
        {
          "output_type": "execute_result",
          "data": {
            "text/plain": [
              "True"
            ]
          },
          "metadata": {},
          "execution_count": 12
        }
      ]
    },
    {
      "cell_type": "code",
      "source": [
        "50 < x < 150"
      ],
      "metadata": {
        "id": "Rf65Uk_AtDpx",
        "outputId": "4796e91f-86a6-45c6-c7b6-6831adaf132c",
        "colab": {
          "base_uri": "https://localhost:8080/"
        }
      },
      "execution_count": null,
      "outputs": [
        {
          "output_type": "execute_result",
          "data": {
            "text/plain": [
              "True"
            ]
          },
          "metadata": {},
          "execution_count": 13
        }
      ]
    }
  ]
}