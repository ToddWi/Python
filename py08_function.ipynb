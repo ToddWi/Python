{
  "nbformat": 4,
  "nbformat_minor": 0,
  "metadata": {
    "colab": {
      "provenance": [],
      "authorship_tag": "ABX9TyMxaSCyH/g0ipf9EbrX19+I",
      "include_colab_link": true
    },
    "kernelspec": {
      "name": "python3",
      "display_name": "Python 3"
    },
    "language_info": {
      "name": "python"
    }
  },
  "cells": [
    {
      "cell_type": "markdown",
      "metadata": {
        "id": "view-in-github",
        "colab_type": "text"
      },
      "source": [
        "<a href=\"https://colab.research.google.com/github/ToddWi/Python/blob/main/py08_function.ipynb\" target=\"_parent\"><img src=\"https://colab.research.google.com/assets/colab-badge.svg\" alt=\"Open In Colab\"/></a>"
      ]
    },
    {
      "cell_type": "markdown",
      "source": [
        "# 1급 객체(first-class object)로서의 함수\n",
        "\n",
        "* 함수는 변수에 할당할 수 있음.\n",
        "* 함수의 파라미터에 아규먼트로 다른 함수를 전달할 수 있음.\n",
        "  * 함수는 아규먼트가 될 수 있음.\n",
        "* 함수는 다른 함수의 리턴 값이 될 수 있음.\n",
        "* 함수 내부에서 다른 함수를 정의할 수 있음."
      ],
      "metadata": {
        "id": "xys6xsJzxPyI"
      }
    },
    {
      "cell_type": "markdown",
      "source": [
        "# 함수를 변수에 할당"
      ],
      "metadata": {
        "id": "6JH5Gq8pyM56"
      }
    },
    {
      "cell_type": "code",
      "execution_count": null,
      "metadata": {
        "id": "SlhNjNKxxDtF"
      },
      "outputs": [],
      "source": [
        "def twice(x):\n",
        "    return 2 * x"
      ]
    },
    {
      "cell_type": "code",
      "source": [
        "result = twice(100) # 함수 호출 결과(리턴 값)을 변수에 저장.\n",
        "result"
      ],
      "metadata": {
        "colab": {
          "base_uri": "https://localhost:8080/"
        },
        "id": "4LaAIFiqyTvT",
        "outputId": "6b232afe-0106-4eb9-9365-fb944d73cb7b"
      },
      "execution_count": null,
      "outputs": [
        {
          "output_type": "execute_result",
          "data": {
            "text/plain": [
              "200"
            ]
          },
          "metadata": {},
          "execution_count": 3
        }
      ]
    },
    {
      "cell_type": "code",
      "source": [
        "# 함수는 변수에 할당할 수 있음.\n",
        "double = twice # 함수 (객체)를 변수에 저장.\n",
        "double"
      ],
      "metadata": {
        "colab": {
          "base_uri": "https://localhost:8080/"
        },
        "id": "KXpHV2LMyuWw",
        "outputId": "e1d1a746-3bbc-4bed-aea9-4c06a3a19dc5"
      },
      "execution_count": null,
      "outputs": [
        {
          "output_type": "execute_result",
          "data": {
            "text/plain": [
              "<function __main__.twice(x)>"
            ]
          },
          "metadata": {},
          "execution_count": 5
        }
      ]
    },
    {
      "cell_type": "code",
      "source": [
        "double(12)"
      ],
      "metadata": {
        "colab": {
          "base_uri": "https://localhost:8080/"
        },
        "id": "mDkmUWrRy5KQ",
        "outputId": "362cb5ad-73cc-4ac0-d202-30b837b6ce92"
      },
      "execution_count": null,
      "outputs": [
        {
          "output_type": "execute_result",
          "data": {
            "text/plain": [
              "24"
            ]
          },
          "metadata": {},
          "execution_count": 7
        }
      ]
    },
    {
      "cell_type": "code",
      "source": [
        "# 함수의 파라미터에 아규먼트로 다른 함수를 전달할 수 있음.\n",
        "def calculate(x, y, fn):\n",
        "    result = fn(x, y)\n",
        "    return result"
      ],
      "metadata": {
        "id": "NkRN0BUazBdI"
      },
      "execution_count": null,
      "outputs": []
    },
    {
      "cell_type": "code",
      "source": [
        "def plus(x, a):\n",
        "    return x + a"
      ],
      "metadata": {
        "id": "adE0q5a-zYAw"
      },
      "execution_count": null,
      "outputs": []
    },
    {
      "cell_type": "code",
      "source": [
        "calculate(1, 2, plus)"
      ],
      "metadata": {
        "colab": {
          "base_uri": "https://localhost:8080/"
        },
        "id": "tHKrhwVtzh2w",
        "outputId": "70ac7bf1-35fe-45c3-abba-1b655da9f89a"
      },
      "execution_count": null,
      "outputs": [
        {
          "output_type": "execute_result",
          "data": {
            "text/plain": [
              "3"
            ]
          },
          "metadata": {},
          "execution_count": 14
        }
      ]
    },
    {
      "cell_type": "code",
      "source": [
        "def minus(x, y):\n",
        "    return x - y"
      ],
      "metadata": {
        "id": "yZi4ewME0eoI"
      },
      "execution_count": null,
      "outputs": []
    },
    {
      "cell_type": "code",
      "source": [
        "calculate(1, 2, minus)"
      ],
      "metadata": {
        "colab": {
          "base_uri": "https://localhost:8080/"
        },
        "id": "1busGLQP0h5v",
        "outputId": "161cdee5-8125-4aad-8126-262433321d9c"
      },
      "execution_count": null,
      "outputs": [
        {
          "output_type": "execute_result",
          "data": {
            "text/plain": [
              "-1"
            ]
          },
          "metadata": {},
          "execution_count": 16
        }
      ]
    },
    {
      "cell_type": "markdown",
      "source": [
        "# 내부함수, 함수 리턴"
      ],
      "metadata": {
        "id": "svFKstaM1Gt4"
      }
    },
    {
      "cell_type": "code",
      "source": [
        "def make_increment(n): # 외부 함수\n",
        "    def add_n(x): # 내부 함수. 지역 함수. 로컬 함수.\n",
        "        return x + n # 내부 함수는 외부 함수의 지역 변수 (파라미터 포함)들을 사용할 수 있음.\n",
        "\n",
        "    return add_n"
      ],
      "metadata": {
        "id": "WUuM0kwX1XPY"
      },
      "execution_count": null,
      "outputs": []
    },
    {
      "cell_type": "code",
      "source": [
        "increase_by_2 = make_increment(2)\n",
        "increase_by_2"
      ],
      "metadata": {
        "colab": {
          "base_uri": "https://localhost:8080/"
        },
        "id": "4KyasQrx2HxP",
        "outputId": "9552538e-ca34-43c6-f37b-f03d9c7c30e4"
      },
      "execution_count": null,
      "outputs": [
        {
          "output_type": "execute_result",
          "data": {
            "text/plain": [
              "<function __main__.make_increment.<locals>.add_n(x)>"
            ]
          },
          "metadata": {},
          "execution_count": 20
        }
      ]
    },
    {
      "cell_type": "code",
      "source": [
        "increase_by_2(100)\n",
        "# 내부 함수는 외부 함수가 가지고 있는 변수를 사용할 수 있다."
      ],
      "metadata": {
        "colab": {
          "base_uri": "https://localhost:8080/"
        },
        "id": "oZsUoPu-2Quv",
        "outputId": "b7439285-bcdf-4d5d-f5c6-3f8c28661723"
      },
      "execution_count": null,
      "outputs": [
        {
          "output_type": "execute_result",
          "data": {
            "text/plain": [
              "102"
            ]
          },
          "metadata": {},
          "execution_count": 22
        }
      ]
    },
    {
      "cell_type": "code",
      "source": [
        "increase_by_10 = make_increment(10)\n",
        "increase_by_10(100)"
      ],
      "metadata": {
        "colab": {
          "base_uri": "https://localhost:8080/"
        },
        "id": "24XWJ5CQ23C3",
        "outputId": "9c6fbd4e-2276-415c-cac5-3757b535ac58"
      },
      "execution_count": null,
      "outputs": [
        {
          "output_type": "execute_result",
          "data": {
            "text/plain": [
              "110"
            ]
          },
          "metadata": {},
          "execution_count": 25
        }
      ]
    },
    {
      "cell_type": "code",
      "source": [
        "make_increment(5)(100)"
      ],
      "metadata": {
        "colab": {
          "base_uri": "https://localhost:8080/"
        },
        "id": "JjapnqRP3-vo",
        "outputId": "11277e81-eceb-49f9-ac16-975c6c67fbf8"
      },
      "execution_count": null,
      "outputs": [
        {
          "output_type": "execute_result",
          "data": {
            "text/plain": [
              "<function __main__.make_increment.<locals>.add_n(x)>"
            ]
          },
          "metadata": {},
          "execution_count": 26
        }
      ]
    },
    {
      "cell_type": "markdown",
      "source": [
        "# Lambda expression(람다 표현식)\n",
        "\n",
        "```\n",
        "lambda param1, param2, ...: expression\n",
        "```\n",
        "\n",
        "* 이름이 없는 함수 표기법\n",
        "* 함수 이름 없이 함수의 파라미터 선언과 반환 값 또는 반환 식으로만 함수를 정의하는 방법.\n",
        "* 파이썬은 2줄 이상의 문장이 포함된 람다 표현식 문법을 제공하지 않음."
      ],
      "metadata": {
        "id": "F18JK_XO8ajm"
      }
    },
    {
      "cell_type": "code",
      "source": [
        "minus = lambda x, y: x - y\n",
        "minus"
      ],
      "metadata": {
        "colab": {
          "base_uri": "https://localhost:8080/"
        },
        "id": "4mKxItON9dWo",
        "outputId": "4973dde4-373c-44ed-b329-acda9d42201e"
      },
      "execution_count": null,
      "outputs": [
        {
          "output_type": "execute_result",
          "data": {
            "text/plain": [
              "<function __main__.<lambda>(x, y)>"
            ]
          },
          "metadata": {},
          "execution_count": 27
        }
      ]
    },
    {
      "cell_type": "code",
      "source": [
        "calculate(2, 3, lambda x, y: x * y)"
      ],
      "metadata": {
        "colab": {
          "base_uri": "https://localhost:8080/"
        },
        "id": "N-wBJbS49i_V",
        "outputId": "43789a3c-4b3d-482d-ca71-043be937546c"
      },
      "execution_count": null,
      "outputs": [
        {
          "output_type": "execute_result",
          "data": {
            "text/plain": [
              "6"
            ]
          },
          "metadata": {},
          "execution_count": 30
        }
      ]
    },
    {
      "cell_type": "code",
      "source": [
        "calculate(2, 3, lambda x, y: x / y)"
      ],
      "metadata": {
        "colab": {
          "base_uri": "https://localhost:8080/"
        },
        "id": "59FNFqR1-tZM",
        "outputId": "29665ccb-47c0-4ce9-a46b-97c06a48e19e"
      },
      "execution_count": null,
      "outputs": [
        {
          "output_type": "execute_result",
          "data": {
            "text/plain": [
              "0.6666666666666666"
            ]
          },
          "metadata": {},
          "execution_count": 31
        }
      ]
    },
    {
      "cell_type": "markdown",
      "source": [
        "Ex 1. calculate 함수에 2개의 숫자 중에서 더 큰 수를 리턴하는 람다 표현식을 argument로 전달"
      ],
      "metadata": {
        "id": "KEydPcIE_JT9"
      }
    },
    {
      "cell_type": "code",
      "source": [
        "calculate(2, 3, lambda x, y: x if x > y else y)"
      ],
      "metadata": {
        "colab": {
          "base_uri": "https://localhost:8080/"
        },
        "id": "G4n6HxuO_kj8",
        "outputId": "bbd74bb5-3452-4f27-fd64-bb378f95e033"
      },
      "execution_count": null,
      "outputs": [
        {
          "output_type": "execute_result",
          "data": {
            "text/plain": [
              "3"
            ]
          },
          "metadata": {},
          "execution_count": 36
        }
      ]
    },
    {
      "cell_type": "markdown",
      "source": [
        "Ex 2. calculate 함수에, 첫번째 아규먼트가 크면 True, 그렇지 않으면 False를 리턴하는 람다 표현식을 전달"
      ],
      "metadata": {
        "id": "GAnya4tr_ZyV"
      }
    },
    {
      "cell_type": "code",
      "source": [
        "calculate(2, 3, lambda x, y : True if x > y else False)"
      ],
      "metadata": {
        "colab": {
          "base_uri": "https://localhost:8080/"
        },
        "id": "UBV57KKLAsMV",
        "outputId": "36e4f8d0-7f0f-4a20-a66c-cd104c047e23"
      },
      "execution_count": null,
      "outputs": [
        {
          "output_type": "execute_result",
          "data": {
            "text/plain": [
              "False"
            ]
          },
          "metadata": {},
          "execution_count": 37
        }
      ]
    },
    {
      "cell_type": "markdown",
      "source": [
        "# filter 함수\n",
        "\n",
        "조건에 맞는 원소들만 선택."
      ],
      "metadata": {
        "id": "JNULdwbUCEJN"
      }
    },
    {
      "cell_type": "code",
      "source": [
        "def my_filter(iterable, fn):\n",
        "  \"\"\"\n",
        "  리스트 iterable의 원소들 중에서 함수 fn의 호출 결과 값이 True인 원소들로만 이루어진 리스트를 리턴.\n",
        "\n",
        "  Param iterable: 리스트.\n",
        "  Param fn: 아규먼트가 1개이고, True/False를 리턴하는 함수.\n",
        "  \"\"\"\n",
        "  for x in iterable:\n",
        "\n",
        "    def is_true(x):\n",
        "        result = True\n",
        "        if x > 5:\n",
        "          result = True\n",
        "        else:\n",
        "          result = False\n",
        "\n",
        "          return result\n",
        "\n",
        "    return is_true"
      ],
      "metadata": {
        "id": "KL1YbQd8CkHt"
      },
      "execution_count": null,
      "outputs": []
    },
    {
      "cell_type": "code",
      "source": [
        "num = (1,2,3,4,5)\n",
        "result = my_filter(num, lambda x : x)\n",
        "print(result)"
      ],
      "metadata": {
        "colab": {
          "base_uri": "https://localhost:8080/"
        },
        "id": "pTFFXJo-EL3k",
        "outputId": "82fc8603-e992-446c-9782-0d766f9b6b0a"
      },
      "execution_count": null,
      "outputs": [
        {
          "output_type": "stream",
          "name": "stdout",
          "text": [
            "<function my_filter.<locals>.is_true at 0x7fda31a10dc0>\n"
          ]
        }
      ]
    },
    {
      "cell_type": "code",
      "source": [
        "def my_filter2(iterable, fn):\n",
        "\n",
        "  return [x for x in iterable if fn(x)] # 넘버리스트에서 원소를 하나씩 추출해 fn()에 부합하면 return 하겠다.\n",
        "\n",
        "  # result = [] # 필터링된 원소들을 저장할 빈 리스트\n",
        "  # for x in iterable: # 리스트에서 순서대로 원소를 순서대로 반복하면서\n",
        "  #     if fn(x): # 그 원소를 함수에게 전달했을 때 True를 리턴하면\n",
        "  #         # 필터링 조건을 만족하면\n",
        "  #         result.append(x) # 결과 리스트에 필터링된 원소를 추가.\n",
        "\n",
        "  # return result # 필더링된 결과를 가지고 있는 리스트를 리턴."
      ],
      "metadata": {
        "id": "9BFMWTNdJQYB"
      },
      "execution_count": null,
      "outputs": []
    },
    {
      "cell_type": "code",
      "source": [
        "numbers = [1, -2, 3, 4, -5, -6, 7]"
      ],
      "metadata": {
        "id": "CUdeA25iKTCq"
      },
      "execution_count": null,
      "outputs": []
    },
    {
      "cell_type": "code",
      "source": [
        "my_filter2(numbers, lambda x: x > 0)"
      ],
      "metadata": {
        "colab": {
          "base_uri": "https://localhost:8080/"
        },
        "id": "xS2pt8YDKaLB",
        "outputId": "b53ef090-4964-4f32-ca7b-c4fb4137af62"
      },
      "execution_count": null,
      "outputs": [
        {
          "output_type": "execute_result",
          "data": {
            "text/plain": [
              "[1, 3, 4, 7]"
            ]
          },
          "metadata": {},
          "execution_count": 58
        }
      ]
    },
    {
      "cell_type": "code",
      "source": [
        "strings = ['python', 'java', 'javascript', 'sql']\n",
        "\n",
        "# 5글자 이상인 문자열들만 필터링\n",
        "\n",
        "my_filter2(strings, lambda x : len(x) >= 5)\n"
      ],
      "metadata": {
        "colab": {
          "base_uri": "https://localhost:8080/"
        },
        "id": "1sLC_wtxMu16",
        "outputId": "02f88b21-ef4c-4f83-e950-7589198354df"
      },
      "execution_count": null,
      "outputs": [
        {
          "output_type": "execute_result",
          "data": {
            "text/plain": [
              "['python', 'javascript']"
            ]
          },
          "metadata": {},
          "execution_count": 63
        }
      ]
    },
    {
      "cell_type": "markdown",
      "source": [
        "## map 함수\n",
        "\n",
        "원소들을 규칙에 따라서 다른 값으로 변환."
      ],
      "metadata": {
        "id": "Wa9z0PXmOFOo"
      }
    },
    {
      "cell_type": "code",
      "source": [
        "def my_mapper(iterable, fn):\n",
        "  \"\"\"\n",
        "  리스트 iterable의 원소들을 함수 fn의 리턴 값으로 변환한 리스트를 리턴.\n",
        "\n",
        "  Param iterable: 리스트.\n",
        "  Param fn: 아규먼트가 1개이고 리턴 값이 있는 함수.\n",
        "  \"\"\"\n",
        "  return [fn(x) for x in iterable]\n",
        "\n",
        "  # result = []\n",
        "  # for x in iterable:\n",
        "  #     result.append(fn(x))\n",
        "  # return result"
      ],
      "metadata": {
        "id": "sGV7VCyXOQLw"
      },
      "execution_count": null,
      "outputs": []
    },
    {
      "cell_type": "code",
      "source": [
        "# 리스트 numbers의 원소들의 제곱으로 이루어진 리스트\n",
        "numbers = (1,2,3,4,5)\n",
        "my_mapper(numbers, lambda x : x * x)"
      ],
      "metadata": {
        "colab": {
          "base_uri": "https://localhost:8080/"
        },
        "id": "IhzW8ExOOXTH",
        "outputId": "d641777a-b065-4356-e839-9b923a22a592"
      },
      "execution_count": null,
      "outputs": [
        {
          "output_type": "execute_result",
          "data": {
            "text/plain": [
              "[1, 4, 9, 16, 25]"
            ]
          },
          "metadata": {},
          "execution_count": 70
        }
      ]
    },
    {
      "cell_type": "code",
      "source": [
        "# 리스트 numbers의 원소가 짝수이면 even 홀수면 odd를 저장하는 리스트\n",
        "my_mapper(numbers, lambda x : 'even' if x % 2 == 0 else 'odd')"
      ],
      "metadata": {
        "colab": {
          "base_uri": "https://localhost:8080/"
        },
        "id": "IiYRE_sEQlVB",
        "outputId": "0a4f8ff2-05a3-45c6-cec2-48feeec89a26"
      },
      "execution_count": null,
      "outputs": [
        {
          "output_type": "execute_result",
          "data": {
            "text/plain": [
              "['odd', 'even', 'odd', 'even', 'odd']"
            ]
          },
          "metadata": {},
          "execution_count": 72
        }
      ]
    },
    {
      "cell_type": "code",
      "source": [
        "# strings가 가지고 있는 문자열의 길이들로 이루어진 리스트\n",
        "strings = ['python', 'java', 'javascript', 'sql']\n",
        "my_mapper(strings, lambda x : len(x))"
      ],
      "metadata": {
        "colab": {
          "base_uri": "https://localhost:8080/"
        },
        "id": "4LVt81OhR-C5",
        "outputId": "b6b0269f-78d7-4976-8add-6e752dc39268"
      },
      "execution_count": null,
      "outputs": [
        {
          "output_type": "execute_result",
          "data": {
            "text/plain": [
              "[6, 4, 10, 3]"
            ]
          },
          "metadata": {},
          "execution_count": 74
        }
      ]
    },
    {
      "cell_type": "code",
      "source": [
        "# strings의 문자열들을 대문자로 변환한 리스트\n",
        "my_mapper(strings, lambda x : x.upper())"
      ],
      "metadata": {
        "colab": {
          "base_uri": "https://localhost:8080/"
        },
        "id": "J4X8ut3pSKFw",
        "outputId": "ed8c0c6c-2424-48b4-b47b-2e5864f4229d"
      },
      "execution_count": null,
      "outputs": [
        {
          "output_type": "execute_result",
          "data": {
            "text/plain": [
              "['PYTHON', 'JAVA', 'JAVASCRIPT', 'SQL']"
            ]
          },
          "metadata": {},
          "execution_count": 77
        }
      ]
    }
  ]
}