{
  "nbformat": 4,
  "nbformat_minor": 0,
  "metadata": {
    "colab": {
      "provenance": [],
      "authorship_tag": "ABX9TyNEdjcK3n8CWLKBtfuqOiTk",
      "include_colab_link": true
    },
    "kernelspec": {
      "name": "python3",
      "display_name": "Python 3"
    },
    "language_info": {
      "name": "python"
    }
  },
  "cells": [
    {
      "cell_type": "markdown",
      "metadata": {
        "id": "view-in-github",
        "colab_type": "text"
      },
      "source": [
        "<a href=\"https://colab.research.google.com/github/ToddWi/Python/blob/main/py07_function.ipynb\" target=\"_parent\"><img src=\"https://colab.research.google.com/assets/colab-badge.svg\" alt=\"Open In Colab\"/></a>"
      ]
    },
    {
      "cell_type": "markdown",
      "source": [
        "# Function(함수)"
      ],
      "metadata": {
        "id": "JPM2fOiWFDqs"
      }
    },
    {
      "cell_type": "markdown",
      "source": [
        "* function(함수): 기능을 수행하는 코드 블록.\n",
        "* argument: 함수를 호출하는 곳에서 함수에게 전달하는 값.\n",
        "* parameter: argument를 저장하기 위해서 함수 선언부에서 선언하는 지역 변수.\n",
        "* return value: 함수가 기능의 수행 결과로 리턴하는 값.\n",
        "  * return value가 있는 함수\n",
        "  * return value가 없는 함수\n",
        "* 파이썬 함수 정의 방법:\n",
        "  ```\n",
        "  def function_name([param, ...]):\n",
        "      [\"\"\"문서화 주석 - 함수 기능 설명, 파라미터 설명, 리턴 값 설명\"\"\"]\n",
        "      함수 기능 구현\n",
        "      [return 값]\n",
        "  ```\n",
        "  * return value가 없는 경우에,\n",
        "    * return 문장을 생략.\n",
        "    * return None 명시할 수도 있음"
      ],
      "metadata": {
        "id": "63Fs2Nq8FI3i"
      }
    },
    {
      "cell_type": "code",
      "source": [
        "def subtract(x, y): # x, y를 파라미터\n",
        "  \"\"\" 2개의 숫자 x, y를 전달받아서 x-y 결과를 리턴하는 함수.\n",
        "  \"\"\"\n",
        "  return x - y"
      ],
      "metadata": {
        "id": "wwaXfa1zHld2"
      },
      "execution_count": null,
      "outputs": []
    },
    {
      "cell_type": "code",
      "source": [
        "result = subtract(1, 2) # 1, 2를 아규먼트라고 한다\n",
        "result"
      ],
      "metadata": {
        "colab": {
          "base_uri": "https://localhost:8080/"
        },
        "id": "9aT-83JhIS_y",
        "outputId": "0772577f-bb8c-4a76-f5e2-9ce658bca3dc"
      },
      "execution_count": null,
      "outputs": [
        {
          "output_type": "execute_result",
          "data": {
            "text/plain": [
              "-1"
            ]
          },
          "metadata": {},
          "execution_count": 3
        }
      ]
    },
    {
      "cell_type": "code",
      "source": [
        "def repeat_message(message, n):\n",
        "  \"\"\"문자열(message)과 양의 정수(n)을 전달받아서, message를 n번 출력하는 함수\n",
        "  \"\"\"\n",
        "  for _ in range(n):\n",
        "      print(message)\n",
        "\n",
        "  return None\n",
        "  # 리턴 값이 없으면 보통 return문을 생략하지만, return None으로 명시하기도 함."
      ],
      "metadata": {
        "id": "wuqs0gSMJBjS"
      },
      "execution_count": null,
      "outputs": []
    },
    {
      "cell_type": "code",
      "source": [
        "repeat_message('안녕하세요',3)"
      ],
      "metadata": {
        "colab": {
          "base_uri": "https://localhost:8080/"
        },
        "id": "voNOPnEzJwUp",
        "outputId": "b0ff86d2-1d9b-480a-e1bc-ed0937e8220b"
      },
      "execution_count": null,
      "outputs": [
        {
          "output_type": "stream",
          "name": "stdout",
          "text": [
            "안녕하세요\n",
            "안녕하세요\n",
            "안녕하세요\n"
          ]
        }
      ]
    },
    {
      "cell_type": "markdown",
      "source": [
        "## Ex1.\n",
        "  * 함수 이름: make_list\n",
        "  * 기능: start 이상 end 미만의 정수 난수 n개를 갖는 리스트를 반환하는 함수."
      ],
      "metadata": {
        "id": "75df-X2sMZux"
      }
    },
    {
      "cell_type": "code",
      "source": [
        "import random\n",
        "def make_list(start, end, n):\n",
        "  numbers = [random.randrange(start, end) for _ in range(n)]\n",
        "\n",
        "  return numbers"
      ],
      "metadata": {
        "id": "LdwrPctJMiGJ"
      },
      "execution_count": null,
      "outputs": []
    },
    {
      "cell_type": "code",
      "source": [
        "result = make_list(1, 10, 3)\n",
        "result"
      ],
      "metadata": {
        "colab": {
          "base_uri": "https://localhost:8080/"
        },
        "id": "00AnznEwMmfJ",
        "outputId": "a42d1b30-dab1-43fb-96e1-9ff97869883a"
      },
      "execution_count": null,
      "outputs": [
        {
          "output_type": "execute_result",
          "data": {
            "text/plain": [
              "[1, 9, 7]"
            ]
          },
          "metadata": {},
          "execution_count": 7
        }
      ]
    },
    {
      "cell_type": "markdown",
      "source": [
        "Ex 2.\n",
        "  * 함수 이름: calc_sum\n",
        "  * 기능: 숫자들의 리스트를 전달받아서, 리스트의 모든 원소들의 합을 리턴하는 함수"
      ],
      "metadata": {
        "id": "dauCEupMO61n"
      }
    },
    {
      "cell_type": "code",
      "source": [
        "def calc_sum(num_list):\n",
        "    total = 0\n",
        "    for z in num_list:\n",
        "        total += z\n",
        "\n",
        "    return total"
      ],
      "metadata": {
        "id": "zdVxfTcqPLJY"
      },
      "execution_count": null,
      "outputs": []
    },
    {
      "cell_type": "code",
      "source": [
        "numbers = make_list(0, 10, 5)\n",
        "print(numbers)\n",
        "total = calc_sum(numbers)\n",
        "print(total)"
      ],
      "metadata": {
        "colab": {
          "base_uri": "https://localhost:8080/"
        },
        "id": "wLbONkm7QP7Q",
        "outputId": "66d6179d-8d19-4556-c05d-c82f9ef38903"
      },
      "execution_count": null,
      "outputs": [
        {
          "output_type": "stream",
          "name": "stdout",
          "text": [
            "[7, 6, 6, 1, 2]\n",
            "22\n"
          ]
        }
      ]
    },
    {
      "cell_type": "markdown",
      "source": [
        "Ex 3.\n",
        "함수 이름: calc_mean\n",
        "기능: 숫자들의 리스트를 전달받아서, 리스트의 원소들의 평균을 리턴하는 함수."
      ],
      "metadata": {
        "id": "ijpG6YI3V8Rn"
      }
    },
    {
      "cell_type": "code",
      "source": [
        "def calc_mean(num_list):\n",
        "    mean = calc_sum(num_list) / len(num_list)\n",
        "    return mean"
      ],
      "metadata": {
        "id": "__QeweKGv7u1"
      },
      "execution_count": null,
      "outputs": []
    },
    {
      "cell_type": "code",
      "source": [
        "calc_mean(numbers)"
      ],
      "metadata": {
        "colab": {
          "base_uri": "https://localhost:8080/"
        },
        "id": "RzTMLMuLwXu8",
        "outputId": "2c4ec0e2-a35c-4ceb-8e82-5f1ae07cb604"
      },
      "execution_count": null,
      "outputs": [
        {
          "output_type": "execute_result",
          "data": {
            "text/plain": [
              "4.4"
            ]
          },
          "metadata": {},
          "execution_count": 18
        }
      ]
    },
    {
      "cell_type": "markdown",
      "source": [
        "함수 이름: calc_var\n",
        "기능: 숫자들의 리스트를 전달받아서, 리스트의 원소들의 분산(variance)을 리턴하는 함수.\n",
        "분산 = (값 - 평균)**2 들의 평균"
      ],
      "metadata": {
        "id": "8LGx7eVGWC92"
      }
    },
    {
      "cell_type": "code",
      "source": [
        "def calc_var():\n",
        "  mean - calc_mean(num_list)\n",
        "  squares = [(x - mean) ** 2 for x in num_list]\n",
        "  variance = calc_mean(squares)\n",
        "  return variance"
      ],
      "metadata": {
        "id": "c1VZlLkaWE_H"
      },
      "execution_count": null,
      "outputs": []
    },
    {
      "cell_type": "code",
      "source": [
        "calc_var(numbers)0"
      ],
      "metadata": {
        "colab": {
          "base_uri": "https://localhost:8080/",
          "height": 137
        },
        "id": "9ush0AGKy9_-",
        "outputId": "f948fea6-fd67-479d-c6cd-06cd690171b2"
      },
      "execution_count": null,
      "outputs": [
        {
          "output_type": "error",
          "ename": "SyntaxError",
          "evalue": "ignored",
          "traceback": [
            "\u001b[0;36m  File \u001b[0;32m\"<ipython-input-29-ce774d7f8fd3>\"\u001b[0;36m, line \u001b[0;32m1\u001b[0m\n\u001b[0;31m    calc_var(numbers)0\u001b[0m\n\u001b[0m                     ^\u001b[0m\n\u001b[0;31mSyntaxError\u001b[0m\u001b[0;31m:\u001b[0m invalid syntax\n"
          ]
        }
      ]
    },
    {
      "cell_type": "markdown",
      "source": [
        "파이썬은 2개 이상의 값을 리턴하는 함수를 정의할 수 있음. 함수를 호출한 곳에서는 리턴 값을 튜플로 취급하면 됨."
      ],
      "metadata": {
        "id": "OYNUM3hf5K1x"
      }
    },
    {
      "cell_type": "code",
      "source": [
        "def plus_and_minus(x, y):\n",
        "    return x + y, x - y"
      ],
      "metadata": {
        "id": "nU-Pnm_a5xap"
      },
      "execution_count": null,
      "outputs": []
    },
    {
      "cell_type": "code",
      "source": [
        "result = plus_and_minus(1, 2)\n",
        "result"
      ],
      "metadata": {
        "colab": {
          "base_uri": "https://localhost:8080/"
        },
        "id": "dd1VSzqu6CGR",
        "outputId": "c0e8fee6-d1f4-4674-dcdc-ce9a421bedc6"
      },
      "execution_count": null,
      "outputs": [
        {
          "output_type": "execute_result",
          "data": {
            "text/plain": [
              "(3, -1)"
            ]
          },
          "metadata": {},
          "execution_count": 25
        }
      ]
    },
    {
      "cell_type": "code",
      "source": [
        "plus, minus = plus_and_minus(1, 2)\n",
        "print(plus, minus)"
      ],
      "metadata": {
        "colab": {
          "base_uri": "https://localhost:8080/"
        },
        "id": "skXrkpdd6b5a",
        "outputId": "09781bb2-1870-4587-e316-c626972ed1f5"
      },
      "execution_count": null,
      "outputs": [
        {
          "output_type": "stream",
          "name": "stdout",
          "text": [
            "3 -1\n"
          ]
        }
      ]
    },
    {
      "cell_type": "markdown",
      "source": [
        "숫자들의 리스트를 전달받아서, 최댓값과 최솟값을 리턴하는 함수를 정의."
      ],
      "metadata": {
        "id": "C3g7vTeZ6h3i"
      }
    },
    {
      "cell_type": "code",
      "source": [
        "def find_max_and_min(num_list):\n",
        "    max = num_list[0]\n",
        "    min = num_list[0]\n",
        "    for x in num_list:\n",
        "      if max < x:\n",
        "        max = x\n",
        "      if min > x:\n",
        "        min = x\n",
        "    return max, min\n"
      ],
      "metadata": {
        "id": "MgfzLFRL6hLJ"
      },
      "execution_count": null,
      "outputs": []
    },
    {
      "cell_type": "code",
      "source": [
        "numbers = make_list(0, 100, 10)\n",
        "print(numbers)\n",
        "max, min = find_max_and_min(numbers)\n",
        "print(f'max = {max}, min = {min}')"
      ],
      "metadata": {
        "colab": {
          "base_uri": "https://localhost:8080/"
        },
        "id": "kMkA1_DY9FvC",
        "outputId": "930f1fa3-60b1-4315-e41e-c2836dd6f680"
      },
      "execution_count": null,
      "outputs": [
        {
          "output_type": "stream",
          "name": "stdout",
          "text": [
            "[89, 65, 91, 74, 38, 52, 27, 88, 15, 5]\n",
            "max = 91, min = 5\n"
          ]
        }
      ]
    },
    {
      "cell_type": "markdown",
      "source": [
        "숫자들의 리스트를 전달받아서 치댓값과 최댓값의 인덱스(위치)를 리턴하는 함수를 정의. 최댓값이 2개 이상인 경우, 먼저 나오는 값을 리턴"
      ],
      "metadata": {
        "id": "etfhD3xF9tCh"
      }
    },
    {
      "cell_type": "code",
      "source": [
        "def find_max_and_index(num_list):\n",
        "  max = num_list[0]\n",
        "  max_index = 0\n",
        "  for i, v in enumerate(num_list):\n",
        "      if (v > max):\n",
        "          max = v\n",
        "          max_index = i\n",
        "  return max, max_index"
      ],
      "metadata": {
        "id": "NUQeH6q2959B"
      },
      "execution_count": null,
      "outputs": []
    },
    {
      "cell_type": "code",
      "source": [
        "numbers = make_list(0, 10, 5)\n",
        "print(numbers)\n",
        "find_max_and_index(numbers)\n"
      ],
      "metadata": {
        "colab": {
          "base_uri": "https://localhost:8080/"
        },
        "id": "txPYoUEA9bZp",
        "outputId": "0f0ebdce-9f91-45e6-fc39-37ffba591da6"
      },
      "execution_count": null,
      "outputs": [
        {
          "output_type": "stream",
          "name": "stdout",
          "text": [
            "[6, 7, 1, 2, 2]\n"
          ]
        },
        {
          "output_type": "execute_result",
          "data": {
            "text/plain": [
              "(7, 1)"
            ]
          },
          "metadata": {},
          "execution_count": 54
        }
      ]
    },
    {
      "cell_type": "markdown",
      "source": [
        "# Default argument(기본 인수)\n",
        "\n",
        "* 함수를 정의할 때 파라미터에 설정된 기본값.\n",
        "  * 함수를 호출할 때 파라미터에 값을 전달하지 않으면, 기본값이 사용됨.\n",
        "  * 함수를 호출할 때 파라미터에 값을 전달하면, 기본값은 무시되고 전달한 아규먼트가 사용됨.\n",
        "*  **(주의)** 함수를 정의할 때, default argument를 갖는 파라미터들은 반드시 default argument를 갖지 않는 파라미터들 뒤에 선언해야 함\n",
        "  * 기본값을 갖지 않는 파라미터들을 먼저 선언하고, 기본값을 갖는 파라미터들을 선언해야 함."
      ],
      "metadata": {
        "id": "A8Suy3J2EIhQ"
      }
    },
    {
      "cell_type": "code",
      "source": [
        "def repeat_message2(msg, n=1):\n",
        "  for _ in range(n):\n",
        "      print(msg)"
      ],
      "metadata": {
        "id": "ddY7_34BFWRY"
      },
      "execution_count": null,
      "outputs": []
    },
    {
      "cell_type": "code",
      "source": [
        "repeat_message2('??')"
      ],
      "metadata": {
        "colab": {
          "base_uri": "https://localhost:8080/"
        },
        "id": "8MunM8gGF9ZV",
        "outputId": "627b2dcf-687d-4d33-a55e-6919b62498c8"
      },
      "execution_count": null,
      "outputs": [
        {
          "output_type": "stream",
          "name": "stdout",
          "text": [
            "??\n"
          ]
        }
      ]
    },
    {
      "cell_type": "code",
      "source": [
        "repeat_message2('pi', 2)"
      ],
      "metadata": {
        "colab": {
          "base_uri": "https://localhost:8080/"
        },
        "id": "wnlqLwFfGHO9",
        "outputId": "b5863d15-4713-41cf-d4bf-9c4b95f1c280"
      },
      "execution_count": null,
      "outputs": [
        {
          "output_type": "stream",
          "name": "stdout",
          "text": [
            "pi\n",
            "pi\n"
          ]
        }
      ]
    },
    {
      "cell_type": "markdown",
      "source": [
        "# argument 전달 방법:\n",
        "\n",
        "* positional argument: 함수 정의에서 선언된 파라미터 순서대로 아규먼트들을 전달하는 방법.\n",
        "* keyword argument: `param=value` 형식으로 아규먼트들을 전달하는 방법.\n",
        "  * keyword argument 방식에서는 파라미터의 순서를 지키지 않아도 됨.\n",
        "*  **(주의)** 함수 호출할 때 positional 방식과 keyword 방식을 함께 사용하는 경우에는, 반드시 positional argument를 먼저 사용하고, keyword argument는 나중에 사용해야 함."
      ],
      "metadata": {
        "id": "Oq_wQBuVH-fO"
      }
    },
    {
      "cell_type": "code",
      "source": [
        "def minus(x, y):\n",
        "    return x - y"
      ],
      "metadata": {
        "id": "RntegBDLI9Zw"
      },
      "execution_count": null,
      "outputs": []
    },
    {
      "cell_type": "code",
      "source": [
        "minus(1, 2) # positional argument\n",
        "\n",
        "minus(x=1, y=2) # keyword argument\n",
        "\n",
        "minus(y=1, x=2) # keyword argument는 순서(position)를 지키지 않아도 됨.\n",
        "\n",
        "minus(1, y=2) # 혼용하는 경우에는 keyword argument가 뒤에 위치해야 함."
      ],
      "metadata": {
        "colab": {
          "base_uri": "https://localhost:8080/"
        },
        "id": "5b77imFCJinX",
        "outputId": "28e2f457-5556-40c4-cc51-2a816038465c"
      },
      "execution_count": null,
      "outputs": [
        {
          "output_type": "execute_result",
          "data": {
            "text/plain": [
              "-1"
            ]
          },
          "metadata": {},
          "execution_count": 60
        }
      ]
    },
    {
      "cell_type": "code",
      "source": [
        "minus(x=1, y=2) # keyword argument"
      ],
      "metadata": {
        "colab": {
          "base_uri": "https://localhost:8080/"
        },
        "id": "Ttszx8KEJlIN",
        "outputId": "65f9f0c3-da40-4072-9150-2dac6bcea184"
      },
      "execution_count": null,
      "outputs": [
        {
          "output_type": "execute_result",
          "data": {
            "text/plain": [
              "-1"
            ]
          },
          "metadata": {},
          "execution_count": 61
        }
      ]
    },
    {
      "cell_type": "code",
      "source": [
        "minus(y=1, x=2) # keyword argument는 순서(position)를 지키지 않아도 됨."
      ],
      "metadata": {
        "colab": {
          "base_uri": "https://localhost:8080/"
        },
        "id": "aGOnuVzZJwr1",
        "outputId": "7af02903-d527-40b6-e2fb-a66a3b0793cb"
      },
      "execution_count": null,
      "outputs": [
        {
          "output_type": "execute_result",
          "data": {
            "text/plain": [
              "1"
            ]
          },
          "metadata": {},
          "execution_count": 62
        }
      ]
    },
    {
      "cell_type": "code",
      "source": [
        "minus(1, y=2)"
      ],
      "metadata": {
        "colab": {
          "base_uri": "https://localhost:8080/"
        },
        "id": "af3A8a0bKP1F",
        "outputId": "c7d24a5f-e79d-482d-96d5-6f07787d5d72"
      },
      "execution_count": null,
      "outputs": [
        {
          "output_type": "execute_result",
          "data": {
            "text/plain": [
              "-1"
            ]
          },
          "metadata": {},
          "execution_count": 64
        }
      ]
    },
    {
      "cell_type": "markdown",
      "source": [
        "# 가변길이 인수(variable-length argument)\n",
        "\n",
        "* 함수를 호출할 때, 전달하는 argument의 개수가 임의로 변할 수 있는 것.\n",
        "  * argument를 전달하지 않아도 됨.\n",
        "* 함수를 정의할 때 파라미터 이름 앞에 `*`를 사용하면 가변길이 인수를 전달받을 수 있음.\n",
        "* 함수 내부에서는 가변길이 인수는 튜플로 취급.\n",
        "  * for-in 반복문 사용 가능.\n",
        "  * 인덱스 사용 가능.\n",
        "* **(주의)**\n",
        "  * 가변길이 인수는 keyword 방식으로는 전달할 수 없음. f(x=1, x=2, x=3)\n",
        "  * 함수를 정의할 때, 가변길이 인수를 갖는 파라미터는 오직 1개만 선언 가능."
      ],
      "metadata": {
        "id": "1eUcZey3Lvv7"
      }
    },
    {
      "cell_type": "code",
      "source": [
        "def add_all(*values):\n",
        "    total = 0\n",
        "    for x in values:\n",
        "        total += x\n",
        "    return total"
      ],
      "metadata": {
        "id": "uJvuYpuZfVdY"
      },
      "execution_count": null,
      "outputs": []
    },
    {
      "cell_type": "code",
      "source": [
        "add_all()"
      ],
      "metadata": {
        "colab": {
          "base_uri": "https://localhost:8080/"
        },
        "id": "gw6KRc98fzc3",
        "outputId": "a7af8ec0-e0e7-487d-8daa-c2f54a7407cc"
      },
      "execution_count": null,
      "outputs": [
        {
          "output_type": "execute_result",
          "data": {
            "text/plain": [
              "0"
            ]
          },
          "metadata": {},
          "execution_count": 66
        }
      ]
    },
    {
      "cell_type": "code",
      "source": [
        "add_all(1)"
      ],
      "metadata": {
        "colab": {
          "base_uri": "https://localhost:8080/"
        },
        "id": "WLhZeXulf4a_",
        "outputId": "b423f6ee-8dd8-4b1b-e3a6-627aceb0447f"
      },
      "execution_count": null,
      "outputs": [
        {
          "output_type": "execute_result",
          "data": {
            "text/plain": [
              "1"
            ]
          },
          "metadata": {},
          "execution_count": 68
        }
      ]
    },
    {
      "cell_type": "code",
      "source": [
        "add_all(1,2,3,4,5)"
      ],
      "metadata": {
        "colab": {
          "base_uri": "https://localhost:8080/"
        },
        "id": "G-wOZRUNgd0m",
        "outputId": "d0b96836-e8a9-4929-efb1-bdbef270e609"
      },
      "execution_count": null,
      "outputs": [
        {
          "output_type": "execute_result",
          "data": {
            "text/plain": [
              "15"
            ]
          },
          "metadata": {},
          "execution_count": 70
        }
      ]
    },
    {
      "cell_type": "markdown",
      "source": [
        "가변길이 인수 뒤에 파라미터가 있는 경우, 그 파라미터는 keyword방식으로만 아규먼트를 전달할 수 있음."
      ],
      "metadata": {
        "id": "XGXsdCPnixnO"
      }
    },
    {
      "cell_type": "code",
      "source": [
        "def test(*x, y):\n",
        "    print(x)\n",
        "    print(y)"
      ],
      "metadata": {
        "id": "BcOtlspjg_yn"
      },
      "execution_count": null,
      "outputs": []
    },
    {
      "cell_type": "code",
      "source": [
        "def keyword_only(*, x, y, z):\n",
        "    print(f'x={x}, y={y}, z={z}')"
      ],
      "metadata": {
        "id": "lWM-bZPvjDH_"
      },
      "execution_count": null,
      "outputs": []
    },
    {
      "cell_type": "code",
      "source": [
        "print(1,2,3, sep='-')"
      ],
      "metadata": {
        "colab": {
          "base_uri": "https://localhost:8080/"
        },
        "id": "muAdCb7HjOXm",
        "outputId": "6ea208da-261e-4c79-9d75-1d53bcc1ab0f"
      },
      "execution_count": null,
      "outputs": [
        {
          "output_type": "stream",
          "name": "stdout",
          "text": [
            "1-2-3\n"
          ]
        }
      ]
    },
    {
      "cell_type": "code",
      "source": [
        "print('hello', end='  ')\n",
        "print('python')"
      ],
      "metadata": {
        "colab": {
          "base_uri": "https://localhost:8080/"
        },
        "id": "DwA9A83Mjl1W",
        "outputId": "4038519c-0bee-4215-888a-8d0e05c94acf"
      },
      "execution_count": null,
      "outputs": [
        {
          "output_type": "stream",
          "name": "stdout",
          "text": [
            "hello  python\n"
          ]
        }
      ]
    },
    {
      "cell_type": "markdown",
      "source": [
        "# 가변길이 키워드 인수(variable-length keyword argument)\n",
        "\n",
        "* 함수를 정의할 때 파라미터 이름 앞에 `**`를 붙임.\n",
        "* 가변길이 인수: 함수를 호출할 때 전달하는 아규먼트의 개수 제한이 없음.\n",
        "* keyword argument: 함수를 호출할 때 반드시 `param=value` 형식으로 전달해야 함.\n",
        "* 함수 내부에서 가변길이 키워드 인수는 dict로 취급함.\n",
        "* 함수 호출할 때 파라미터 이름은 아무렇게나 전달해도 됨.\n",
        "* 가변길이 키워드 인수는 함수에서 1개만 사용 가능."
      ],
      "metadata": {
        "id": "f3wdFeBslvqm"
      }
    },
    {
      "cell_type": "code",
      "source": [
        "def test2(**kwargs):\n",
        "    print(kwargs)"
      ],
      "metadata": {
        "id": "8EItyY3Wm5KW"
      },
      "execution_count": null,
      "outputs": []
    },
    {
      "cell_type": "code",
      "source": [
        "def make_emp_info(emp_no, emp_name, **kwargs):\n",
        "    emp = {'emp_no': emp_no, 'emp_name': emp_name}\n",
        "    for k, v in kwargs.items():\n",
        "        emp[k] = v\n",
        "\n",
        "    return emp"
      ],
      "metadata": {
        "id": "NMIc8K_dn_I0"
      },
      "execution_count": null,
      "outputs": []
    },
    {
      "cell_type": "code",
      "source": [
        "make_emp_info(1, 'king')"
      ],
      "metadata": {
        "colab": {
          "base_uri": "https://localhost:8080/"
        },
        "id": "N0veyyEnonAV",
        "outputId": "38788eef-56e2-4e0d-e659-54963de716f6"
      },
      "execution_count": null,
      "outputs": [
        {
          "output_type": "execute_result",
          "data": {
            "text/plain": [
              "{'emp_no': 1, 'emp_name': 'king'}"
            ]
          },
          "metadata": {},
          "execution_count": 87
        }
      ]
    },
    {
      "cell_type": "code",
      "source": [
        "make_emp_info(2, '홍길동', email='gildong@test.com', dept='HR')"
      ],
      "metadata": {
        "colab": {
          "base_uri": "https://localhost:8080/"
        },
        "id": "v0ykvw1Eo8a0",
        "outputId": "8f26ce97-62ff-4431-c87d-df31b497c829"
      },
      "execution_count": null,
      "outputs": [
        {
          "output_type": "execute_result",
          "data": {
            "text/plain": [
              "{'emp_no': 2, 'emp_name': '홍길동', 'email': 'gildong@test.com', 'dept': 'HR'}"
            ]
          },
          "metadata": {},
          "execution_count": 88
        }
      ]
    }
  ]
}