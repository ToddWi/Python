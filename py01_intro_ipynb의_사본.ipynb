{
  "nbformat": 4,
  "nbformat_minor": 0,
  "metadata": {
    "colab": {
      "provenance": [],
      "toc_visible": true,
      "authorship_tag": "ABX9TyN2kC9P1YWg0icAMgTB7zuk",
      "include_colab_link": true
    },
    "kernelspec": {
      "name": "python3",
      "display_name": "Python 3"
    },
    "language_info": {
      "name": "python"
    }
  },
  "cells": [
    {
      "cell_type": "markdown",
      "metadata": {
        "id": "view-in-github",
        "colab_type": "text"
      },
      "source": [
        "<a href=\"https://colab.research.google.com/github/ToddWi/Python/blob/main/py01_intro_ipynb%EC%9D%98_%EC%82%AC%EB%B3%B8.ipynb\" target=\"_parent\"><img src=\"https://colab.research.google.com/assets/colab-badge.svg\" alt=\"Open In Colab\"/></a>"
      ]
    },
    {
      "cell_type": "markdown",
      "source": [
        "# 파이썬 버전 확인\n"
      ],
      "metadata": {
        "id": "i1jYC2pC1t_f"
      }
    },
    {
      "cell_type": "code",
      "source": [
        "!python --version"
      ],
      "metadata": {
        "colab": {
          "base_uri": "https://localhost:8080/"
        },
        "id": "EvBqdOLt2Pv3",
        "outputId": "a0eeff3a-d5cc-443a-84ad-5b5ea7f54014"
      },
      "execution_count": null,
      "outputs": [
        {
          "output_type": "stream",
          "name": "stdout",
          "text": [
            "Python 3.10.12\n"
          ]
        }
      ]
    },
    {
      "cell_type": "markdown",
      "source": [
        "코드 셀에서 명령창(command prompt)에서 실행하는 명령어를 작성하고 실행할 때는 !로 시작."
      ],
      "metadata": {
        "id": "0xy6YwCn2j2P"
      }
    },
    {
      "cell_type": "markdown",
      "source": [
        "# 파이썬 소개\n"
      ],
      "metadata": {
        "id": "sDosrPYQ1nbv"
      }
    },
    {
      "cell_type": "code",
      "source": [
        "# inline comment (주석)\n",
        "print('안녕하세요, Python')"
      ],
      "metadata": {
        "colab": {
          "base_uri": "https://localhost:8080/"
        },
        "id": "i_jU5gxE1m2X",
        "outputId": "b944e7b7-99df-4646-850f-a38a62921db1"
      },
      "execution_count": null,
      "outputs": [
        {
          "output_type": "stream",
          "name": "stdout",
          "text": [
            "안녕하세요, Python\n"
          ]
        }
      ]
    },
    {
      "cell_type": "markdown",
      "source": [
        "# 코드셀 실행 방법\n",
        "\n",
        "* 코드셀 왼쪽의 실행 버튼을 클릭\n",
        "* Ctrl+Enter: 현재 포커스가 있는 코드셀을 실행.\n",
        "* Shift+Enter: 현재 포커스가 있는 코드셀을 실행하고, 그 다음 셀로 포커스를 이동.\n",
        "  * 현재 셀 아래에 다음 셀이 없는 경우에는 새로운 코드 셀을 만들어 줌.\n",
        "* 런타임 메뉴"
      ],
      "metadata": {
        "id": "1xYpWP8VZdPk"
      }
    },
    {
      "cell_type": "code",
      "source": [
        "print('hello, python')"
      ],
      "metadata": {
        "colab": {
          "base_uri": "https://localhost:8080/"
        },
        "id": "ioEQsjzGa-F0",
        "outputId": "9dd6af9a-a217-44ee-c29b-01ad5ede1f76"
      },
      "execution_count": null,
      "outputs": [
        {
          "output_type": "stream",
          "name": "stdout",
          "text": [
            "hello, python\n"
          ]
        }
      ]
    },
    {
      "cell_type": "code",
      "source": [
        "print('블로그 ㄱ?')"
      ],
      "metadata": {
        "colab": {
          "base_uri": "https://localhost:8080/"
        },
        "id": "Oy1EenqhbC2t",
        "outputId": "ef04c019-37c2-44e1-b3e6-4fed07112d4d"
      },
      "execution_count": null,
      "outputs": [
        {
          "output_type": "stream",
          "name": "stdout",
          "text": [
            "블로그 ㄱ?\n"
          ]
        }
      ]
    },
    {
      "cell_type": "markdown",
      "source": [
        "`print()` 함수"
      ],
      "metadata": {
        "id": "UHXd71YWb0sr"
      }
    },
    {
      "cell_type": "markdown",
      "source": [
        "## `format()` 메서드를 사용한 출력"
      ],
      "metadata": {
        "id": "XsloXU-ibfS0"
      }
    },
    {
      "cell_type": "code",
      "source": [
        "print('hello', 'python', '안녕하세요')"
      ],
      "metadata": {
        "colab": {
          "base_uri": "https://localhost:8080/"
        },
        "id": "SXA9FAfybTbl",
        "outputId": "5605efa0-f454-455a-9c84-d33f87a87ab6"
      },
      "execution_count": null,
      "outputs": [
        {
          "output_type": "stream",
          "name": "stdout",
          "text": [
            "hello python 안녕하세요\n"
          ]
        }
      ]
    },
    {
      "cell_type": "markdown",
      "source": [
        "`print()` 함수에 아규먼트를 여러 개 전달하면, 아규먼트들을 공백으로 연결해서 콘솔에 출력한다."
      ],
      "metadata": {
        "id": "8rkxa7wGcfXr"
      }
    },
    {
      "cell_type": "code",
      "source": [
        "print('{} + {} = {}'.format(1, 2, 3))"
      ],
      "metadata": {
        "colab": {
          "base_uri": "https://localhost:8080/"
        },
        "id": "QtsVogKXdEKE",
        "outputId": "1d4b2cf7-9876-4088-9522-5d88b3c9c294"
      },
      "execution_count": null,
      "outputs": [
        {
          "output_type": "stream",
          "name": "stdout",
          "text": [
            "1 + 2 = 3\n"
          ]
        }
      ]
    },
    {
      "cell_type": "markdown",
      "source": [
        "# formatted string을 사용한 출력\n",
        "\n",
        "python 3.6 이상의 버전에서 사용할 수 있음."
      ],
      "metadata": {
        "id": "5G6WymoLdmWT"
      }
    },
    {
      "cell_type": "code",
      "source": [
        "# 변수이름 = 값\n",
        "x = 1\n",
        "y = 2\n",
        "print(f'{x} + {y} = {x + y}')"
      ],
      "metadata": {
        "colab": {
          "base_uri": "https://localhost:8080/"
        },
        "id": "6FZ7zpYbd1Di",
        "outputId": "54ec4f01-b6e3-4807-b8af-9a2f72b57d58"
      },
      "execution_count": null,
      "outputs": [
        {
          "output_type": "stream",
          "name": "stdout",
          "text": [
            "1 + 2 = 3\n"
          ]
        }
      ]
    },
    {
      "cell_type": "code",
      "source": [
        "x = 1\n",
        "x\n",
        "y = 2\n",
        "print(y)\n",
        "# print(x + y)\n",
        "x + y"
      ],
      "metadata": {
        "colab": {
          "base_uri": "https://localhost:8080/"
        },
        "id": "GonyXKlAgpRS",
        "outputId": "2931485b-c583-4153-eea5-7e7395d7e73e"
      },
      "execution_count": null,
      "outputs": [
        {
          "output_type": "stream",
          "name": "stdout",
          "text": [
            "1\n",
            "2\n",
            "3\n"
          ]
        }
      ]
    },
    {
      "cell_type": "markdown",
      "source": [
        "## ipynb 노트북에서 콘솔 출력\n",
        "\n",
        "* 식(expression): 값(value), 변수, 연산, 함수 호출\n",
        "  * x, x + y, print()\n",
        "* 문장(statement): 코드의 최소 실행 단위\n",
        "  * z = x + y, result = add(x, y) 어느 값을 특정 변수에 저장하는 것 또한 문장이라 간주\n",
        "* ipynb 노트북 코드셀에서 가장 마지막 줄에 있는 문장이 식(expression)이면 , 그 식을 평가한 결과를 콘솔에 출력해 줌.\n",
        "  * 마지막 줄에서는 print() 함수를 호출하지 않아도 출력 됨.\n"
      ],
      "metadata": {
        "id": "K301bFyyfBQz"
      }
    }
  ]
}