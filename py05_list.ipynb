{
  "nbformat": 4,
  "nbformat_minor": 0,
  "metadata": {
    "colab": {
      "provenance": [],
      "include_colab_link": true
    },
    "kernelspec": {
      "name": "python3",
      "display_name": "Python 3"
    },
    "language_info": {
      "name": "python"
    }
  },
  "cells": [
    {
      "cell_type": "markdown",
      "metadata": {
        "id": "view-in-github",
        "colab_type": "text"
      },
      "source": [
        "<a href=\"https://colab.research.google.com/github/ToddWi/Python/blob/main/py05_list.ipynb\" target=\"_parent\"><img src=\"https://colab.research.google.com/assets/colab-badge.svg\" alt=\"Open In Colab\"/></a>"
      ]
    },
    {
      "cell_type": "markdown",
      "source": [
        "# list\n",
        "\n",
        "*  여러 개의 값들을 하나의 변수에 저장하기 위한 데이터 타입.\n",
        "*  element(원소, 요소): 리스트에 저장되는 각각의 값.\n",
        "*  index(인덱스): 리스트에서 원소가 저장된 위치\n",
        "    *  리스트의 인덱스는 **0**부터 시작.\n",
        "    *  리스트의 마지막 인덱스는 (원소 개수 - 1).\n",
        "*  리스트는 원소들을 추가, 삭제, 변경할 수 있음.\n",
        "    *  `tuple`과 다른 점!\n"
      ],
      "metadata": {
        "id": "6R8zViXrhu1B"
      }
    },
    {
      "cell_type": "code",
      "execution_count": null,
      "metadata": {
        "colab": {
          "base_uri": "https://localhost:8080/"
        },
        "id": "bWKrr_uzhh0j",
        "outputId": "d1d3e73d-5cc1-4a7c-d168-c6dc09df90ee"
      },
      "outputs": [
        {
          "output_type": "execute_result",
          "data": {
            "text/plain": [
              "[1, 2, 3, 10, 20, 30]"
            ]
          },
          "metadata": {},
          "execution_count": 1
        }
      ],
      "source": [
        "# 숫자들을 저장하는 리스트\n",
        "numbers = [1, 2, 3, 10, 20, 30]\n",
        "numbers"
      ]
    },
    {
      "cell_type": "markdown",
      "source": [
        "# 인덱싱(indexing)\n",
        "\n",
        "인덱스를 사용해서 리스트의 원소를 참조하는 방법."
      ],
      "metadata": {
        "id": "twdoTUGgj9YA"
      }
    },
    {
      "cell_type": "code",
      "source": [
        "numbers[0]  # 리스트 numbers의 인덱스 0 위치의 원소"
      ],
      "metadata": {
        "colab": {
          "base_uri": "https://localhost:8080/"
        },
        "id": "fsHKiSC5jtIA",
        "outputId": "51a0d294-10c9-4730-8fe9-ce074d29cd40"
      },
      "execution_count": null,
      "outputs": [
        {
          "output_type": "execute_result",
          "data": {
            "text/plain": [
              "1"
            ]
          },
          "metadata": {},
          "execution_count": 2
        }
      ]
    },
    {
      "cell_type": "code",
      "source": [
        "numbers[5]  # 리스트 numbers의 인덱스 5 위치의 원소"
      ],
      "metadata": {
        "colab": {
          "base_uri": "https://localhost:8080/"
        },
        "id": "_jQQaPIYn532",
        "outputId": "8f6b4590-3ab8-427a-854c-3b316f2b0471"
      },
      "execution_count": null,
      "outputs": [
        {
          "output_type": "execute_result",
          "data": {
            "text/plain": [
              "30"
            ]
          },
          "metadata": {},
          "execution_count": 3
        }
      ]
    },
    {
      "cell_type": "code",
      "source": [
        "numbers[-1]  # 리스트에서 가장 마지막 원소"
      ],
      "metadata": {
        "colab": {
          "base_uri": "https://localhost:8080/"
        },
        "id": "nWlBJtD2oGPx",
        "outputId": "2cc5e7e3-6760-4ee7-8c3a-d51354afd948"
      },
      "execution_count": null,
      "outputs": [
        {
          "output_type": "execute_result",
          "data": {
            "text/plain": [
              "30"
            ]
          },
          "metadata": {},
          "execution_count": 4
        }
      ]
    },
    {
      "cell_type": "code",
      "source": [
        "numbers[-6]"
      ],
      "metadata": {
        "colab": {
          "base_uri": "https://localhost:8080/"
        },
        "id": "Q5FnC5nNpzTB",
        "outputId": "1b4d9843-de89-41fe-bc62-bff62cf27240"
      },
      "execution_count": null,
      "outputs": [
        {
          "output_type": "execute_result",
          "data": {
            "text/plain": [
              "1"
            ]
          },
          "metadata": {},
          "execution_count": 5
        }
      ]
    },
    {
      "cell_type": "markdown",
      "source": [
        "# slicing\n",
        "\n",
        "인덱스를 사용해서 리스트의 부분집합(리스트)를 잘라내는 방법.\n",
        "\n",
        "`list[start:end]`\n",
        "\n",
        "*  start <= index < end 범위의 인덱스 위치의 원소들을 잘라냄.\n",
        "*  start를 생략한 경우에는 첫번째 원소부터 잘라냄.\n",
        "    *  `list[0:5]`과 `list[:5]`는 같은 결과.\n",
        "*  end를 생략한 경우에는 마지막 원소까지 잘라냄.\n",
        "*  리스트를 slicing한 결과는 또다른 새로운 **리스트**.\n"
      ],
      "metadata": {
        "id": "wmTPyXkYqIJR"
      }
    },
    {
      "cell_type": "code",
      "source": [
        "numbers"
      ],
      "metadata": {
        "colab": {
          "base_uri": "https://localhost:8080/"
        },
        "id": "W4QF4nGErZ_B",
        "outputId": "ab0a1b10-4d8d-4e57-ac51-558926308608"
      },
      "execution_count": null,
      "outputs": [
        {
          "output_type": "execute_result",
          "data": {
            "text/plain": [
              "[1, 2, 3, 10, 20, 30]"
            ]
          },
          "metadata": {},
          "execution_count": 6
        }
      ]
    },
    {
      "cell_type": "code",
      "source": [
        "numbers[1:4]  # 1 <= index < 4"
      ],
      "metadata": {
        "colab": {
          "base_uri": "https://localhost:8080/"
        },
        "id": "EJwa7faurbb5",
        "outputId": "417d7368-fb8a-4da0-eb3a-c8ccc340a667"
      },
      "execution_count": null,
      "outputs": [
        {
          "output_type": "execute_result",
          "data": {
            "text/plain": [
              "[2, 3, 10]"
            ]
          },
          "metadata": {},
          "execution_count": 7
        }
      ]
    },
    {
      "cell_type": "code",
      "source": [
        "numbers[3:6]"
      ],
      "metadata": {
        "colab": {
          "base_uri": "https://localhost:8080/"
        },
        "id": "YZSa2U5-rp0o",
        "outputId": "c169bf3c-c86f-472d-f1c0-a2418d1b997c"
      },
      "execution_count": null,
      "outputs": [
        {
          "output_type": "execute_result",
          "data": {
            "text/plain": [
              "[10, 20, 30]"
            ]
          },
          "metadata": {},
          "execution_count": 8
        }
      ]
    },
    {
      "cell_type": "code",
      "source": [
        "numbers[3:]"
      ],
      "metadata": {
        "colab": {
          "base_uri": "https://localhost:8080/"
        },
        "id": "WmSfciv8sfnp",
        "outputId": "5b7889bf-0be6-4434-bc13-36eb22e09f63"
      },
      "execution_count": null,
      "outputs": [
        {
          "output_type": "execute_result",
          "data": {
            "text/plain": [
              "[10, 20, 30]"
            ]
          },
          "metadata": {},
          "execution_count": 9
        }
      ]
    },
    {
      "cell_type": "code",
      "source": [
        "numbers[:3] # 리스트에서 앞에서 3개를 선택"
      ],
      "metadata": {
        "colab": {
          "base_uri": "https://localhost:8080/"
        },
        "id": "BvHilgV2sqD5",
        "outputId": "d9334bf3-5709-480d-926a-6e9c89089cda"
      },
      "execution_count": null,
      "outputs": [
        {
          "output_type": "execute_result",
          "data": {
            "text/plain": [
              "[1, 2, 3]"
            ]
          },
          "metadata": {},
          "execution_count": 10
        }
      ]
    },
    {
      "cell_type": "code",
      "source": [
        "numbers[-3:]  # 리스트에서 뒤에서 3개"
      ],
      "metadata": {
        "colab": {
          "base_uri": "https://localhost:8080/"
        },
        "id": "c9UpLxsktTP5",
        "outputId": "c1dae091-a503-4ed4-bf38-246885d146c2"
      },
      "execution_count": null,
      "outputs": [
        {
          "output_type": "execute_result",
          "data": {
            "text/plain": [
              "[10, 20, 30]"
            ]
          },
          "metadata": {},
          "execution_count": 11
        }
      ]
    },
    {
      "cell_type": "code",
      "source": [
        "numbers[0:1]  # slicing -> 리스트"
      ],
      "metadata": {
        "colab": {
          "base_uri": "https://localhost:8080/"
        },
        "id": "dzrk1CzpuD0B",
        "outputId": "2a63a624-4998-437b-8492-120aede68ad3"
      },
      "execution_count": null,
      "outputs": [
        {
          "output_type": "execute_result",
          "data": {
            "text/plain": [
              "[1]"
            ]
          },
          "metadata": {},
          "execution_count": 12
        }
      ]
    },
    {
      "cell_type": "code",
      "source": [
        "numbers[0]  # indexing -> 값(숫자)"
      ],
      "metadata": {
        "colab": {
          "base_uri": "https://localhost:8080/"
        },
        "id": "edZiqhA4uaDZ",
        "outputId": "9b0541a4-a52c-4425-c9c4-4013f3765cd1"
      },
      "execution_count": null,
      "outputs": [
        {
          "output_type": "execute_result",
          "data": {
            "text/plain": [
              "1"
            ]
          },
          "metadata": {},
          "execution_count": 13
        }
      ]
    },
    {
      "cell_type": "markdown",
      "source": [
        "# 문자열(str)\n",
        "\n",
        "*  문자들의 *리스트*.\n",
        "*  문자열은 인덱스를 사용할 수 있음.\n",
        "    *  indexing, slicing 가능.\n"
      ],
      "metadata": {
        "id": "9w4nEyH_u4sh"
      }
    },
    {
      "cell_type": "code",
      "source": [
        "message = '안녕하세요, 여러분!'  # 11개의 문자들로 이루어진 리스트."
      ],
      "metadata": {
        "id": "fM-_dVJfvaGh"
      },
      "execution_count": null,
      "outputs": []
    },
    {
      "cell_type": "code",
      "source": [
        "message[0]  # 문자열에서 첫번째 문자"
      ],
      "metadata": {
        "colab": {
          "base_uri": "https://localhost:8080/",
          "height": 36
        },
        "id": "XUqA6mOcveJE",
        "outputId": "4a74abb2-54aa-4350-eb30-b4d4d6803437"
      },
      "execution_count": null,
      "outputs": [
        {
          "output_type": "execute_result",
          "data": {
            "text/plain": [
              "'안'"
            ],
            "application/vnd.google.colaboratory.intrinsic+json": {
              "type": "string"
            }
          },
          "metadata": {},
          "execution_count": 15
        }
      ]
    },
    {
      "cell_type": "code",
      "source": [
        "message[-1]  # 문자열에서 마지막 문자"
      ],
      "metadata": {
        "colab": {
          "base_uri": "https://localhost:8080/",
          "height": 36
        },
        "id": "m61-l1WOvymR",
        "outputId": "45222af9-3ad1-4400-9250-b8a0c4f02964"
      },
      "execution_count": null,
      "outputs": [
        {
          "output_type": "execute_result",
          "data": {
            "text/plain": [
              "'!'"
            ],
            "application/vnd.google.colaboratory.intrinsic+json": {
              "type": "string"
            }
          },
          "metadata": {},
          "execution_count": 16
        }
      ]
    },
    {
      "cell_type": "code",
      "source": [
        "message[:3]  # 문자열에서 앞에서 3글자"
      ],
      "metadata": {
        "colab": {
          "base_uri": "https://localhost:8080/",
          "height": 36
        },
        "id": "ZPrcIpipwLsp",
        "outputId": "92e1ce43-6f42-4fca-e97a-26d351ce0ff7"
      },
      "execution_count": null,
      "outputs": [
        {
          "output_type": "execute_result",
          "data": {
            "text/plain": [
              "'안녕하'"
            ],
            "application/vnd.google.colaboratory.intrinsic+json": {
              "type": "string"
            }
          },
          "metadata": {},
          "execution_count": 17
        }
      ]
    },
    {
      "cell_type": "code",
      "source": [
        "message[-3:]  # 문자열에서 뒤에서 3글자"
      ],
      "metadata": {
        "colab": {
          "base_uri": "https://localhost:8080/",
          "height": 36
        },
        "id": "UyZSGs6hwRfi",
        "outputId": "2afddc2b-80e6-4365-f8e3-0821abc7d182"
      },
      "execution_count": null,
      "outputs": [
        {
          "output_type": "execute_result",
          "data": {
            "text/plain": [
              "'러분!'"
            ],
            "application/vnd.google.colaboratory.intrinsic+json": {
              "type": "string"
            }
          },
          "metadata": {},
          "execution_count": 18
        }
      ]
    },
    {
      "cell_type": "code",
      "source": [
        "# 문자열 산술 연산: +, *\n",
        "print('hello' + 'python')\n",
        "print('hello' * 3)"
      ],
      "metadata": {
        "colab": {
          "base_uri": "https://localhost:8080/"
        },
        "id": "2uo-NpB1w4eJ",
        "outputId": "784bb3bf-69bf-49ea-baf0-2401e05936c5"
      },
      "execution_count": null,
      "outputs": [
        {
          "output_type": "stream",
          "name": "stdout",
          "text": [
            "hellopython\n",
            "hellohellohello\n"
          ]
        }
      ]
    },
    {
      "cell_type": "markdown",
      "source": [
        "# 리스트의 산술 연산\n",
        "\n",
        "*  `list + list`\n",
        "*  `list * int` 또는 `int * list`\n"
      ],
      "metadata": {
        "id": "jhq2wXlzxJcM"
      }
    },
    {
      "cell_type": "code",
      "source": [
        "[1, 2, 3] + [4, 5, 6]  # concatenate"
      ],
      "metadata": {
        "colab": {
          "base_uri": "https://localhost:8080/"
        },
        "id": "SrLilu29xdp7",
        "outputId": "5d78b18f-4082-4248-bfe8-59651b0c4d04"
      },
      "execution_count": null,
      "outputs": [
        {
          "output_type": "execute_result",
          "data": {
            "text/plain": [
              "[1, 2, 3, 4, 5, 6]"
            ]
          },
          "metadata": {},
          "execution_count": 20
        }
      ]
    },
    {
      "cell_type": "code",
      "source": [
        "[1, 2, 3] * 3  # replicate"
      ],
      "metadata": {
        "colab": {
          "base_uri": "https://localhost:8080/"
        },
        "id": "ozrYWXPbxh2M",
        "outputId": "19cca44a-0dfb-485e-f08c-439cb7056b7d"
      },
      "execution_count": null,
      "outputs": [
        {
          "output_type": "execute_result",
          "data": {
            "text/plain": [
              "[1, 2, 3, 1, 2, 3, 1, 2, 3]"
            ]
          },
          "metadata": {},
          "execution_count": 21
        }
      ]
    },
    {
      "cell_type": "markdown",
      "source": [
        "# list와 for 반복문"
      ],
      "metadata": {
        "id": "9b_MBrNE1_TC"
      }
    },
    {
      "cell_type": "code",
      "source": [
        "for x in 'hello':\n",
        "    print(x)"
      ],
      "metadata": {
        "colab": {
          "base_uri": "https://localhost:8080/"
        },
        "id": "Y91wNgfcxvMJ",
        "outputId": "18636254-f83f-4f0a-b7e4-95cfa4f65be5"
      },
      "execution_count": null,
      "outputs": [
        {
          "output_type": "stream",
          "name": "stdout",
          "text": [
            "h\n",
            "e\n",
            "l\n",
            "l\n",
            "o\n"
          ]
        }
      ]
    },
    {
      "cell_type": "code",
      "source": [
        "numbers = [1, 10, 5, 100]\n",
        "for x in numbers:\n",
        "    print(x)"
      ],
      "metadata": {
        "colab": {
          "base_uri": "https://localhost:8080/"
        },
        "id": "Kk0lXujf2U-y",
        "outputId": "88d24840-e83d-41fd-9630-4f15734a376c"
      },
      "execution_count": null,
      "outputs": [
        {
          "output_type": "stream",
          "name": "stdout",
          "text": [
            "1\n",
            "10\n",
            "5\n",
            "100\n"
          ]
        }
      ]
    },
    {
      "cell_type": "code",
      "source": [
        "for i in range(len(numbers)):  # 0 <= x < len\n",
        "    print(i, ':', numbers[i])"
      ],
      "metadata": {
        "colab": {
          "base_uri": "https://localhost:8080/"
        },
        "id": "vYaPdMcE2r3a",
        "outputId": "96d3bb31-9bba-4832-8758-7196dbcdabd0"
      },
      "execution_count": null,
      "outputs": [
        {
          "output_type": "stream",
          "name": "stdout",
          "text": [
            "0 : 1\n",
            "1 : 10\n",
            "2 : 5\n",
            "3 : 100\n"
          ]
        }
      ]
    },
    {
      "cell_type": "code",
      "source": [
        "for i, v in enumerate(numbers):\n",
        "    print(i, ':', v)"
      ],
      "metadata": {
        "colab": {
          "base_uri": "https://localhost:8080/"
        },
        "id": "g5EznqhY4Oxa",
        "outputId": "61176994-1ebb-42b1-ab70-864f2e8b721b"
      },
      "execution_count": null,
      "outputs": [
        {
          "output_type": "stream",
          "name": "stdout",
          "text": [
            "0 : 1\n",
            "1 : 10\n",
            "2 : 5\n",
            "3 : 100\n"
          ]
        }
      ]
    },
    {
      "cell_type": "code",
      "source": [
        "numbers1 = [1, 2, 3]\n",
        "numbers2 = [10, 11, 12]\n",
        "# numbers1과 numbers2의 같은 인덱스의 원소들끼리의 합을 원소로 갖는 리스트\n",
        "# [11, 13, 15]"
      ],
      "metadata": {
        "id": "cdmpXtVS53ua"
      },
      "execution_count": null,
      "outputs": []
    },
    {
      "cell_type": "code",
      "source": [
        "result = []  # 빈(empty) 리스트\n",
        "for i in range(len(numbers1)):  # 0 <= i < len\n",
        "    result.append(numbers1[i] + numbers2[i])\n",
        "\n",
        "result"
      ],
      "metadata": {
        "colab": {
          "base_uri": "https://localhost:8080/"
        },
        "id": "Qx_--_7y7pcy",
        "outputId": "942e8971-e602-4a3c-d916-f4a3843bee2a"
      },
      "execution_count": null,
      "outputs": [
        {
          "output_type": "execute_result",
          "data": {
            "text/plain": [
              "[11, 13, 15]"
            ]
          },
          "metadata": {},
          "execution_count": 27
        }
      ]
    },
    {
      "cell_type": "code",
      "source": [
        "result = []\n",
        "for x, y in zip(numbers1, numbers2):\n",
        "    result.append(x + y)\n",
        "\n",
        "result"
      ],
      "metadata": {
        "colab": {
          "base_uri": "https://localhost:8080/"
        },
        "id": "TMasFIM-8LVz",
        "outputId": "cd6aaf49-c9db-4859-aa6e-a240e550dc13"
      },
      "execution_count": null,
      "outputs": [
        {
          "output_type": "execute_result",
          "data": {
            "text/plain": [
              "[11, 13, 15]"
            ]
          },
          "metadata": {},
          "execution_count": 28
        }
      ]
    },
    {
      "cell_type": "markdown",
      "source": [
        "파이썬에 난수를 만드는 방법:"
      ],
      "metadata": {
        "id": "TDIdqXoP-A2z"
      }
    },
    {
      "cell_type": "code",
      "source": [
        "import random  # random 모듈을 임포트"
      ],
      "metadata": {
        "id": "nhFTiVs68qfK"
      },
      "execution_count": null,
      "outputs": []
    },
    {
      "cell_type": "code",
      "source": [
        "# random 모듈의 random() 함수를 호출\n",
        "random.random()  # [0, 1) 범위(0 <= x < 1)의 실수 난수를 리턴."
      ],
      "metadata": {
        "colab": {
          "base_uri": "https://localhost:8080/"
        },
        "id": "FIOf51M_-IET",
        "outputId": "24295eb0-2c82-4995-cc4b-5632f8d5b4b9"
      },
      "execution_count": null,
      "outputs": [
        {
          "output_type": "execute_result",
          "data": {
            "text/plain": [
              "0.8939186766803828"
            ]
          },
          "metadata": {},
          "execution_count": 30
        }
      ]
    },
    {
      "cell_type": "code",
      "source": [
        "# random 모듈의 randrange() 함수를 호출\n",
        "random.randrange(3)  # [0, 3) 범위의 정수 난수를 리턴."
      ],
      "metadata": {
        "colab": {
          "base_uri": "https://localhost:8080/"
        },
        "id": "XTkrlnQw-2_t",
        "outputId": "af3ee9d6-a42c-4075-8961-dbeb8bde89af"
      },
      "execution_count": null,
      "outputs": [
        {
          "output_type": "execute_result",
          "data": {
            "text/plain": [
              "0"
            ]
          },
          "metadata": {},
          "execution_count": 31
        }
      ]
    },
    {
      "cell_type": "code",
      "source": [
        "random.randrange(1, 4)  #[1, 4) 범위의 정수 난수를 리턴."
      ],
      "metadata": {
        "colab": {
          "base_uri": "https://localhost:8080/"
        },
        "id": "n8pg6S9G_dJD",
        "outputId": "04772076-0de7-4095-e343-4eadea6713b6"
      },
      "execution_count": null,
      "outputs": [
        {
          "output_type": "execute_result",
          "data": {
            "text/plain": [
              "1"
            ]
          },
          "metadata": {},
          "execution_count": 32
        }
      ]
    },
    {
      "cell_type": "markdown",
      "source": [
        "# Exercises"
      ],
      "metadata": {
        "id": "AuiZGPN2AMUC"
      }
    },
    {
      "cell_type": "markdown",
      "source": [
        "## Ex 1.\n",
        "\n",
        "1. 빈 리스트를 생성.\n",
        "1. 1 이상 10 이하의 정수 난수 5개를 저장.\n",
        "1. 리스트의 모든 정수들의 합을 출력.\n",
        "1. 리스트의 모든 정수들의 평균을 출력."
      ],
      "metadata": {
        "id": "cUxs2B7tAQ7j"
      }
    },
    {
      "cell_type": "code",
      "source": [
        "import random\n",
        "numbers = []\n",
        "for _ in range(5):\n",
        "    numbers.append(random.randrange(1, 11))\n",
        "\n",
        "print(numbers)\n",
        "\n",
        "numbers2 = [random.randrange(1,11) for _ in range(10)]\n",
        "numbers2"
      ],
      "metadata": {
        "colab": {
          "base_uri": "https://localhost:8080/"
        },
        "id": "_0Mx8VxvgJy1",
        "outputId": "38ab6eab-8581-4afe-c513-44b6cbdef6da"
      },
      "execution_count": null,
      "outputs": [
        {
          "output_type": "stream",
          "name": "stdout",
          "text": [
            "[1, 1, 10, 8, 7]\n"
          ]
        },
        {
          "output_type": "execute_result",
          "data": {
            "text/plain": [
              "[8, 4, 8, 5, 10, 10, 9, 10, 8, 9]"
            ]
          },
          "metadata": {},
          "execution_count": 1
        }
      ]
    },
    {
      "cell_type": "code",
      "source": [
        "sum(numbers)"
      ],
      "metadata": {
        "colab": {
          "base_uri": "https://localhost:8080/"
        },
        "id": "XQzGCCAKhnTd",
        "outputId": "064125b6-0b30-43ea-b02f-5c97e9a38b82"
      },
      "execution_count": null,
      "outputs": [
        {
          "output_type": "execute_result",
          "data": {
            "text/plain": [
              "19"
            ]
          },
          "metadata": {},
          "execution_count": 37
        }
      ]
    },
    {
      "cell_type": "code",
      "source": [
        "total = 0\n",
        "for x in numbers:\n",
        "    total += x;\n",
        "\n",
        "print(f'total = {total}')"
      ],
      "metadata": {
        "colab": {
          "base_uri": "https://localhost:8080/"
        },
        "id": "66u0knleh_VF",
        "outputId": "c0b93116-66c4-4556-8a5c-fd3a8c3b5bb3"
      },
      "execution_count": null,
      "outputs": [
        {
          "output_type": "stream",
          "name": "stdout",
          "text": [
            "total = 19\n"
          ]
        }
      ]
    },
    {
      "cell_type": "code",
      "source": [
        "average = total / len(numbers)\n",
        "print(f'average = {average}')"
      ],
      "metadata": {
        "colab": {
          "base_uri": "https://localhost:8080/"
        },
        "id": "sppuHwyQikCV",
        "outputId": "67f69a0d-a71b-4508-bbef-1fb7e92d6544"
      },
      "execution_count": null,
      "outputs": [
        {
          "output_type": "stream",
          "name": "stdout",
          "text": [
            "average = 3.8\n"
          ]
        }
      ]
    },
    {
      "cell_type": "markdown",
      "source": [
        "## Ex 2.\n",
        "\n",
        "1. 빈 리스트(numbers)를 생성.\n",
        "1. 10 이상, 100 미만의 정수 난수 10개를 numbers에 저장.\n",
        "1. numbers에서 짝수들만 선택해서 evens 리스트를 만들고 출력.\n",
        "1. numbers에서 홀수들만 선택해서 odds 리스트를 만들고 출력."
      ],
      "metadata": {
        "id": "IhKMNYLTAVva"
      }
    },
    {
      "cell_type": "code",
      "source": [
        "numbers = []\n",
        "for _ in range(10):\n",
        "    numbers.append(random.randrange(10, 100))\n",
        "\n",
        "numbers\n",
        "\n",
        "numbers2 = [random.randrange(10, 100) for _ in range(10)]\n",
        "numbers2\n",
        "\n"
      ],
      "metadata": {
        "colab": {
          "base_uri": "https://localhost:8080/",
          "height": 303
        },
        "id": "qcIla829i1X_",
        "outputId": "4aea7db7-176e-41d5-9429-d51d8ca0bff6"
      },
      "execution_count": null,
      "outputs": [
        {
          "output_type": "error",
          "ename": "TypeError",
          "evalue": "ignored",
          "traceback": [
            "\u001b[0;31m---------------------------------------------------------------------------\u001b[0m",
            "\u001b[0;31mTypeError\u001b[0m                                 Traceback (most recent call last)",
            "\u001b[0;32m<ipython-input-12-f215edf050a8>\u001b[0m in \u001b[0;36m<cell line: 11>\u001b[0;34m()\u001b[0m\n\u001b[1;32m      9\u001b[0m \u001b[0;34m\u001b[0m\u001b[0m\n\u001b[1;32m     10\u001b[0m \u001b[0mevens\u001b[0m \u001b[0;34m=\u001b[0m\u001b[0;34m[\u001b[0m\u001b[0;34m]\u001b[0m\u001b[0;34m\u001b[0m\u001b[0;34m\u001b[0m\u001b[0m\n\u001b[0;32m---> 11\u001b[0;31m \u001b[0modds\u001b[0m \u001b[0;34m=\u001b[0m \u001b[0;34m[\u001b[0m\u001b[0mnumbers2\u001b[0m \u001b[0;32mif\u001b[0m \u001b[0mnumbers2\u001b[0m \u001b[0;34m%\u001b[0m \u001b[0;36m2\u001b[0m \u001b[0;34m==\u001b[0m \u001b[0;36m1\u001b[0m \u001b[0;32melse\u001b[0m \u001b[0mnumbers2\u001b[0m\u001b[0;34m.\u001b[0m\u001b[0mappend\u001b[0m\u001b[0;34m(\u001b[0m\u001b[0mevens\u001b[0m\u001b[0;34m)\u001b[0m \u001b[0;32mfor\u001b[0m \u001b[0m_\u001b[0m \u001b[0;32min\u001b[0m \u001b[0mrange\u001b[0m\u001b[0;34m(\u001b[0m\u001b[0;36m10\u001b[0m\u001b[0;34m)\u001b[0m\u001b[0;34m]\u001b[0m\u001b[0;34m\u001b[0m\u001b[0;34m\u001b[0m\u001b[0m\n\u001b[0m",
            "\u001b[0;32m<ipython-input-12-f215edf050a8>\u001b[0m in \u001b[0;36m<listcomp>\u001b[0;34m(.0)\u001b[0m\n\u001b[1;32m      9\u001b[0m \u001b[0;34m\u001b[0m\u001b[0m\n\u001b[1;32m     10\u001b[0m \u001b[0mevens\u001b[0m \u001b[0;34m=\u001b[0m\u001b[0;34m[\u001b[0m\u001b[0;34m]\u001b[0m\u001b[0;34m\u001b[0m\u001b[0;34m\u001b[0m\u001b[0m\n\u001b[0;32m---> 11\u001b[0;31m \u001b[0modds\u001b[0m \u001b[0;34m=\u001b[0m \u001b[0;34m[\u001b[0m\u001b[0mnumbers2\u001b[0m \u001b[0;32mif\u001b[0m \u001b[0mnumbers2\u001b[0m \u001b[0;34m%\u001b[0m \u001b[0;36m2\u001b[0m \u001b[0;34m==\u001b[0m \u001b[0;36m1\u001b[0m \u001b[0;32melse\u001b[0m \u001b[0mnumbers2\u001b[0m\u001b[0;34m.\u001b[0m\u001b[0mappend\u001b[0m\u001b[0;34m(\u001b[0m\u001b[0mevens\u001b[0m\u001b[0;34m)\u001b[0m \u001b[0;32mfor\u001b[0m \u001b[0m_\u001b[0m \u001b[0;32min\u001b[0m \u001b[0mrange\u001b[0m\u001b[0;34m(\u001b[0m\u001b[0;36m10\u001b[0m\u001b[0;34m)\u001b[0m\u001b[0;34m]\u001b[0m\u001b[0;34m\u001b[0m\u001b[0;34m\u001b[0m\u001b[0m\n\u001b[0m",
            "\u001b[0;31mTypeError\u001b[0m: unsupported operand type(s) for %: 'list' and 'int'"
          ]
        }
      ]
    },
    {
      "cell_type": "code",
      "source": [
        "evens = []  # 짝수들을 저장할 빈 리스트\n",
        "odds = []  # 홀수들을 저장할 빈 리스트\n",
        "for x in numbers:  # 리스트 numbers의 원소들을 순서대로 반복하면서\n",
        "    if x % 2:  # 리스트에서 찾은 값을 2로 나눈 나머지가 있으면(홀수이면)\n",
        "        odds.append(x)\n",
        "    else:\n",
        "        evens.append(x)\n",
        "\n",
        "print(f'evens = {evens}')\n",
        "print(f'odds = {odds}')\n",
        "\n",
        "mix = list(zip (evens, odds))\n",
        "print(mix)"
      ],
      "metadata": {
        "colab": {
          "base_uri": "https://localhost:8080/"
        },
        "id": "6HNx9FJujeg-",
        "outputId": "c16fb2b7-8817-420e-e2aa-cece7c913777"
      },
      "execution_count": null,
      "outputs": [
        {
          "output_type": "stream",
          "name": "stdout",
          "text": [
            "evens = [48, 74, 94, 28, 26]\n",
            "odds = [39, 15, 13, 41, 47]\n",
            "[(48, 39), (74, 15), (94, 13), (28, 41), (26, 47)]\n"
          ]
        }
      ]
    },
    {
      "cell_type": "markdown",
      "source": [
        "## Ex 3.\n",
        "\n",
        "1. 빈 리스트 numbers를 만듦.\n",
        "1. -10 이상 10 이하인 범위의 정수 난수 10개를 numbers에 저장.\n",
        "1. numbers의 원소가 양수이면 True, 그렇지 않으면 False를 저장하는 is_positive 리스트를 만들고 출력."
      ],
      "metadata": {
        "id": "oJVxQBSSAeqL"
      }
    },
    {
      "cell_type": "code",
      "source": [
        "numbers = []\n",
        "for _ in range(10):\n",
        "    numbers.append(random.randrange(-10, 11))\n",
        "\n",
        "numbers"
      ],
      "metadata": {
        "colab": {
          "base_uri": "https://localhost:8080/"
        },
        "id": "1pH1NhEfkvsW",
        "outputId": "765c9f79-5920-4a05-f742-9d2b4f6809d4"
      },
      "execution_count": null,
      "outputs": [
        {
          "output_type": "execute_result",
          "data": {
            "text/plain": [
              "[-6, -9, 7, 0, -8, -2, -6, -2, 2, 1]"
            ]
          },
          "metadata": {},
          "execution_count": 44
        }
      ]
    },
    {
      "cell_type": "code",
      "source": [
        "is_positive = []\n",
        "for x in numbers:\n",
        "    if x > 0:\n",
        "        is_positive.append(True)\n",
        "    else:\n",
        "        is_positive.append(False)\n",
        "\n",
        "is_positive"
      ],
      "metadata": {
        "colab": {
          "base_uri": "https://localhost:8080/"
        },
        "id": "6PL2bAxWlmZP",
        "outputId": "cc7b6eef-643f-46b6-b490-ebfeceac8d34"
      },
      "execution_count": null,
      "outputs": [
        {
          "output_type": "execute_result",
          "data": {
            "text/plain": [
              "[False, False, True, False, False, False, False, False, True, True]"
            ]
          },
          "metadata": {},
          "execution_count": 45
        }
      ]
    },
    {
      "cell_type": "markdown",
      "source": [
        "## Ex 4.\n",
        "\n",
        "1. gender_codes 리스트에 0 또는 1을 랜덤하게 10개를 저장.\n",
        "1. gender_codes의 값이 0이면 'Male', 그렇지 않으며 'Female'을 저장하는 genders 리스트를 만들고 출력.\n"
      ],
      "metadata": {
        "id": "xETYmANrAlIb"
      }
    },
    {
      "cell_type": "code",
      "source": [
        "gender_codes = []\n",
        "for _ in range(10):\n",
        "    gender_codes.append(random.randrange(0, 2))\n",
        "\n",
        "gender_codes"
      ],
      "metadata": {
        "colab": {
          "base_uri": "https://localhost:8080/"
        },
        "id": "y_uXj436mRpH",
        "outputId": "4caac892-3d20-4186-8632-74977a52b5f7"
      },
      "execution_count": null,
      "outputs": [
        {
          "output_type": "execute_result",
          "data": {
            "text/plain": [
              "[1, 1, 1, 0, 0, 1, 1, 0, 0, 1]"
            ]
          },
          "metadata": {},
          "execution_count": 46
        }
      ]
    },
    {
      "cell_type": "code",
      "source": [
        "genders = []\n",
        "for x in gender_codes:\n",
        "    if x == 0:\n",
        "        genders.append('Male')\n",
        "    else:\n",
        "        genders.append('Female')\n",
        "\n",
        "genders"
      ],
      "metadata": {
        "colab": {
          "base_uri": "https://localhost:8080/"
        },
        "id": "nqqJzOSTm8M_",
        "outputId": "c6e1b9b7-fc2b-4afc-aac9-30814d708b90"
      },
      "execution_count": null,
      "outputs": [
        {
          "output_type": "execute_result",
          "data": {
            "text/plain": [
              "['Female',\n",
              " 'Female',\n",
              " 'Female',\n",
              " 'Male',\n",
              " 'Male',\n",
              " 'Female',\n",
              " 'Female',\n",
              " 'Male',\n",
              " 'Male',\n",
              " 'Female']"
            ]
          },
          "metadata": {},
          "execution_count": 47
        }
      ]
    },
    {
      "cell_type": "markdown",
      "source": [
        "## Ex 5.\n",
        "\n",
        "1. `numbers1`: 100 미만의 정수 난수 10개를 저장하는 리스트.\n",
        "1. `numbers2`: 100 미만의 정수 난수 10개를 저장하는 리스트.\n",
        "1. `multiplication`: `numbers1`과 `numbers2`의 같은 인덱스에 있는 원소들끼리의 곱셈 결과를 저장하는 리스트.\n",
        "1. `subtraction`: `numbers1`의 원소에서 같은 인덱스에 있는 `numbers2`의 원소를 뺀 값을 저장하는 리스트.\n",
        "\n",
        "`numbers1`, `numbers2`, `multiplication`, `subtraction`를 출력."
      ],
      "metadata": {
        "id": "4kJZYsUKAtDT"
      }
    },
    {
      "cell_type": "code",
      "source": [
        "numbers1 = []\n",
        "numbers2 = []\n",
        "for _ in range(10):\n",
        "    numbers1.append(random.randrange(100))\n",
        "    numbers2.append(random.randrange(100))\n",
        "\n",
        "print(f'numbers1 = {numbers1}')\n",
        "print(f'numbers2 = {numbers2}')"
      ],
      "metadata": {
        "colab": {
          "base_uri": "https://localhost:8080/"
        },
        "id": "0YCoE9RWndav",
        "outputId": "4c766cb5-ef7f-496b-dfc5-29dffb83ba80"
      },
      "execution_count": null,
      "outputs": [
        {
          "output_type": "stream",
          "name": "stdout",
          "text": [
            "numbers1 = [5, 3, 80, 84, 42, 12, 92, 63, 13, 92]\n",
            "numbers2 = [88, 95, 16, 52, 12, 13, 94, 46, 66, 88]\n"
          ]
        }
      ]
    },
    {
      "cell_type": "code",
      "source": [
        "multiplication = []\n",
        "subtraction = []\n",
        "for x, y in zip(numbers1, numbers2):\n",
        "    multiplication.append(x * y)\n",
        "    subtraction.append(x - y)\n",
        "\n",
        "print(f'multiplication = {multiplication}')\n",
        "print(f'subtraction = {subtraction}')"
      ],
      "metadata": {
        "colab": {
          "base_uri": "https://localhost:8080/"
        },
        "id": "SqFPJku2oOXo",
        "outputId": "f94effd3-8f9c-484b-82c7-f8a0a40114c2"
      },
      "execution_count": null,
      "outputs": [
        {
          "output_type": "stream",
          "name": "stdout",
          "text": [
            "multiplication = [440, 285, 1280, 4368, 504, 156, 8648, 2898, 858, 8096]\n",
            "subtraction = [-83, -92, 64, 32, 30, -1, -2, 17, -53, 4]\n"
          ]
        }
      ]
    },
    {
      "cell_type": "markdown",
      "source": [
        "# List Comprehension\n",
        "1 ~ 10 정수들을 순서대로 리스트에 저장: [1, 2, 3, ..., 9, 10]"
      ],
      "metadata": {
        "id": "7BpF8Zrv3xo7"
      }
    },
    {
      "cell_type": "markdown",
      "source": [],
      "metadata": {
        "id": "AD_wNMYquKEW"
      }
    },
    {
      "cell_type": "code",
      "source": [
        "numbers = []\n",
        "for x in range(1, 11):\n",
        "    numbers.append(x)\n",
        "\n",
        "numbers"
      ],
      "metadata": {
        "colab": {
          "base_uri": "https://localhost:8080/",
          "height": 193
        },
        "id": "KVIMUuhcuZfZ",
        "outputId": "bf7f1b8b-f78b-45d8-b650-01f647b9baff"
      },
      "execution_count": null,
      "outputs": [
        {
          "output_type": "error",
          "ename": "NameError",
          "evalue": "ignored",
          "traceback": [
            "\u001b[0;31m---------------------------------------------------------------------------\u001b[0m",
            "\u001b[0;31mNameError\u001b[0m                                 Traceback (most recent call last)",
            "\u001b[0;32m<ipython-input-2-d0034f2ad7ff>\u001b[0m in \u001b[0;36m<cell line: 2>\u001b[0;34m()\u001b[0m\n\u001b[1;32m      1\u001b[0m \u001b[0msquares\u001b[0m \u001b[0;34m=\u001b[0m \u001b[0;34m[\u001b[0m\u001b[0mx\u001b[0m \u001b[0;34m**\u001b[0m \u001b[0;36m2\u001b[0m \u001b[0;32mfor\u001b[0m \u001b[0mx\u001b[0m \u001b[0;32min\u001b[0m \u001b[0mrange\u001b[0m\u001b[0;34m(\u001b[0m\u001b[0;36m1\u001b[0m\u001b[0;34m,\u001b[0m\u001b[0;36m11\u001b[0m\u001b[0;34m)\u001b[0m\u001b[0;34m]\u001b[0m\u001b[0;34m\u001b[0m\u001b[0;34m\u001b[0m\u001b[0m\n\u001b[0;32m----> 2\u001b[0;31m \u001b[0msqures\u001b[0m\u001b[0;34m\u001b[0m\u001b[0;34m\u001b[0m\u001b[0m\n\u001b[0m",
            "\u001b[0;31mNameError\u001b[0m: name 'squres' is not defined"
          ]
        }
      ]
    },
    {
      "cell_type": "code",
      "source": [
        "numbers = [x for x in range(1, 11)]\n",
        "numbers\n"
      ],
      "metadata": {
        "colab": {
          "base_uri": "https://localhost:8080/"
        },
        "id": "Ioefr2RtutSP",
        "outputId": "ec3dea00-ea73-4df9-efa9-9f91a26f3f33"
      },
      "execution_count": null,
      "outputs": [
        {
          "output_type": "execute_result",
          "data": {
            "text/plain": [
              "[1, 2, 3, 4, 5, 6, 7, 8, 9, 10]"
            ]
          },
          "metadata": {},
          "execution_count": 16
        }
      ]
    },
    {
      "cell_type": "code",
      "source": [
        "# [1, 4, 9, 16, ..., 81, 100]\n",
        "squares = [x ** 2 for x in range(1, 11)]\n",
        "squares"
      ],
      "metadata": {
        "colab": {
          "base_uri": "https://localhost:8080/"
        },
        "id": "HGifX7mY3_n0",
        "outputId": "756dfa35-8c30-4c53-b395-1c311ef4d215"
      },
      "execution_count": null,
      "outputs": [
        {
          "output_type": "execute_result",
          "data": {
            "text/plain": [
              "[1, 4, 9, 16, 25, 36, 49, 64, 81, 100]"
            ]
          },
          "metadata": {},
          "execution_count": 18
        }
      ]
    },
    {
      "cell_type": "code",
      "source": [
        "# [0, 10) 범위의 난수 10개를 저장하는 리스트\n",
        "numbers = [random.randrange(10) for _ in range(10)]\n",
        "numbers"
      ],
      "metadata": {
        "colab": {
          "base_uri": "https://localhost:8080/"
        },
        "id": "Z0UnNOS14CaZ",
        "outputId": "67761647-dedc-4557-bf8e-ca67533717aa"
      },
      "execution_count": null,
      "outputs": [
        {
          "output_type": "execute_result",
          "data": {
            "text/plain": [
              "[6, 3, 1, 7, 8, 3, 1, 4, 6, 2]"
            ]
          },
          "metadata": {},
          "execution_count": 19
        }
      ]
    },
    {
      "cell_type": "markdown",
      "source": [
        "## Ex.1"
      ],
      "metadata": {
        "id": "55C3uSj84Kn7"
      }
    },
    {
      "cell_type": "code",
      "source": [
        "\n",
        "numbers = [random.randrange(1, 11) for _ in range(5)]\n",
        "print(f'numbers = {numbers}')\n",
        "\n",
        "total = 0\n",
        "for x in numbers:\n",
        "    total += x\n",
        "print(f'total = {total}')\n",
        "\n",
        "average = total / len(numbers)\n",
        "print(f'averae = {average}')"
      ],
      "metadata": {
        "colab": {
          "base_uri": "https://localhost:8080/"
        },
        "id": "oIN6BmDX4Gcp",
        "outputId": "5e24619d-428a-4d7f-8f06-7bcb803dd9aa"
      },
      "execution_count": null,
      "outputs": [
        {
          "output_type": "stream",
          "name": "stdout",
          "text": [
            "numbers = [3, 4, 4, 6, 6]\n",
            "total = 23\n",
            "averae = 4.6\n"
          ]
        }
      ]
    },
    {
      "cell_type": "markdown",
      "source": [
        "## Ex.2\n",
        "1. 빈 리스트(numbers)를 생성.\n",
        "2. 10 이상, 100 미만의 정수 난수 10개를 numbers에 저장.\n",
        "3. numbers에서 짝수들만 선택해서 evens 리스트를 만들고 출력.\n",
        "4. numbers에서 홀수들만 선택해서 odds 리스트를 만들고 출력."
      ],
      "metadata": {
        "id": "4VIBYGnV53Qa"
      }
    },
    {
      "cell_type": "code",
      "source": [
        "numbers = [random.randrange(10, 100) for _ in range(10)]\n",
        "print(f'numbers = {numbers}')\n",
        "\n",
        "evens = [x for x in numbers if x % 2 == 0]\n",
        "print(f'evens = {evens}')\n",
        "\n",
        "odds = [x for x in numbers if x % 2]\n",
        "print(f'odds = {odds}')\n",
        "\n",
        "# mapping [value1 if condition else value2 for x in iterable]"
      ],
      "metadata": {
        "colab": {
          "base_uri": "https://localhost:8080/"
        },
        "id": "E2naXfVe59IR",
        "outputId": "d80bf5b5-ef35-459f-e72f-71f0a6f1ad70"
      },
      "execution_count": null,
      "outputs": [
        {
          "output_type": "stream",
          "name": "stdout",
          "text": [
            "numbers = [97, 52, 81, 28, 81, 37, 25, 24, 35, 22]\n",
            "evens = [52, 28, 24, 22]\n",
            "odds = [97, 81, 81, 37, 25, 35]\n"
          ]
        }
      ]
    },
    {
      "cell_type": "markdown",
      "source": [
        "## Ex3"
      ],
      "metadata": {
        "id": "nBmxLHx5-P_n"
      }
    },
    {
      "cell_type": "code",
      "source": [
        "x = 1\n",
        "is_positive = True if x > 0 else False # 삼항연산자\n",
        "\n",
        "is_positive"
      ],
      "metadata": {
        "colab": {
          "base_uri": "https://localhost:8080/"
        },
        "id": "1XQxQI9x8g-S",
        "outputId": "cb40dfbb-e621-41b6-d2ba-40059d1ba53e"
      },
      "execution_count": null,
      "outputs": [
        {
          "output_type": "execute_result",
          "data": {
            "text/plain": [
              "True"
            ]
          },
          "metadata": {},
          "execution_count": 26
        }
      ]
    },
    {
      "cell_type": "code",
      "source": [
        "numbers = [random.randrange(-10, 11) for _ in range(10)]\n",
        "print(f'numbers={numbers}')\n",
        "\n",
        "is_positive = [True if x > 0 else False for x in numbers]\n",
        "print(f'is_positive = {is_positive}')"
      ],
      "metadata": {
        "colab": {
          "base_uri": "https://localhost:8080/"
        },
        "id": "rI8sEdHf9RiI",
        "outputId": "87d358ad-c52f-4c48-e347-9cc452771fce"
      },
      "execution_count": null,
      "outputs": [
        {
          "output_type": "stream",
          "name": "stdout",
          "text": [
            "numbers=[-5, 4, -1, -6, 3, -10, 9, -10, 0, 10]\n",
            "is_positive = [False, True, False, False, True, False, True, False, False, True]\n"
          ]
        }
      ]
    },
    {
      "cell_type": "markdown",
      "source": [
        "## Ex.4\n",
        "\n",
        "1. gender_codes 리스트에 0 또는 1을 랜덤하게 10개를 저장.\n",
        "1. gender_codes의 값이 0이면 'Male', 그렇지 않으며 'Female'을 저장하는 genders 리스트를 만들고 출력.\n"
      ],
      "metadata": {
        "id": "Zz7x4HBn-S5o"
      }
    },
    {
      "cell_type": "code",
      "source": [
        "gender_codes = [random.randrange(2) for _ in range(10)]\n",
        "gender_codes\n",
        "\n",
        "genders = ['Male' if x == 0 else 'Female' for x in gender_codes]\n",
        "print(f'genders= {genders}')\n"
      ],
      "metadata": {
        "colab": {
          "base_uri": "https://localhost:8080/"
        },
        "id": "jUj7jN_S-btZ",
        "outputId": "bf1d5e36-010e-4279-a3c4-ed16d039346d"
      },
      "execution_count": null,
      "outputs": [
        {
          "output_type": "stream",
          "name": "stdout",
          "text": [
            "genders= ['Female', 'Female', 'Male', 'Female', 'Male', 'Female', 'Male', 'Female', 'Male', 'Male']\n"
          ]
        }
      ]
    },
    {
      "cell_type": "markdown",
      "source": [
        "## Ex.5\n",
        "1. `numbers1`: 100 미만의 정수 난수 10개를 저장하는 리스트.\n",
        "1. `numbers2`: 100 미만의 정수 난수 10개를 저장하는 리스트.\n",
        "1. `multiplication`: `numbers1`과 `numbers2`의 같은 인덱스에 있는 원소들끼리의 곱셈 결과를 저장하는 리스트.\n",
        "1. `subtraction`: `numbers1`의 원소에서 같은 인덱스에 있는 `numbers2`의 원소를 뺀 값을 저장하는 리스트.\n",
        "\n",
        "`numbers1`, `numbers2`, `multiplication`, `subtraction`를 출력."
      ],
      "metadata": {
        "id": "bhg99kiE_XSP"
      }
    },
    {
      "cell_type": "code",
      "source": [
        "numbers1 = [random.randrange(100) for _ in range(10)]\n",
        "numbers2 = [random.randrange(100) for _ in range(10)]\n",
        "print(f'numbers1={numbers1}')\n",
        "print(f'numbers2={numbers2}')\n",
        "\n",
        "multiplication = [x * y for x, y in zip(numbers1, numbers2)]\n",
        "print(f'multiplication={multiplication}')\n",
        "\n",
        "substraction = [x - y for x, y in zip(numbers1, numbers2)]\n",
        "print(f'substracion={substraction}')"
      ],
      "metadata": {
        "colab": {
          "base_uri": "https://localhost:8080/"
        },
        "id": "6KFMSx9a_eBV",
        "outputId": "2005c2c4-83d5-4dd7-82ad-1479f5b4f1f5"
      },
      "execution_count": null,
      "outputs": [
        {
          "output_type": "stream",
          "name": "stdout",
          "text": [
            "numbers1=[70, 51, 37, 33, 88, 48, 54, 79, 99, 33]\n",
            "numbers2=[42, 35, 15, 27, 2, 5, 96, 17, 48, 20]\n",
            "multiplication=[2940, 1785, 555, 891, 176, 240, 5184, 1343, 4752, 660]\n",
            "substracion=[28, 16, 22, 6, 86, 43, -42, 62, 51, 13]\n"
          ]
        }
      ]
    },
    {
      "cell_type": "code",
      "source": [
        "gender_codes = [1, 2, 1, 2, 3]\n",
        "# 1 -> 'M', 2 -> 'F', 3 -> 'Unknown' mapping\n",
        "genders = ['M' if x == 1 else ('F' if x == 2 else 'UnKnown') for x in gender_codes ]\n",
        "print(f'genders={genders}')\n"
      ],
      "metadata": {
        "colab": {
          "base_uri": "https://localhost:8080/"
        },
        "id": "6HwPFnotA68H",
        "outputId": "96256789-b904-4d1e-ed41-b9b67f11af1d"
      },
      "execution_count": null,
      "outputs": [
        {
          "output_type": "stream",
          "name": "stdout",
          "text": [
            "genders=['M']\n"
          ]
        }
      ]
    },
    {
      "cell_type": "code",
      "source": [
        "print('test')"
      ],
      "metadata": {
        "id": "ekWni2iRZS5U",
        "outputId": "60b80171-7df5-4aa4-ea52-30260be88f75",
        "colab": {
          "base_uri": "https://localhost:8080/"
        }
      },
      "execution_count": 1,
      "outputs": [
        {
          "output_type": "stream",
          "name": "stdout",
          "text": [
            "test\n"
          ]
        }
      ]
    }
  ]
}