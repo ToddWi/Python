{
  "nbformat": 4,
  "nbformat_minor": 0,
  "metadata": {
    "colab": {
      "provenance": [],
      "mount_file_id": "1oon4rvgazQphxEdJzm5xGWtFbNnSg5qX",
      "authorship_tag": "ABX9TyOxc+Bbzapbv74Kal4i74Ii",
      "include_colab_link": true
    },
    "kernelspec": {
      "name": "python3",
      "display_name": "Python 3"
    },
    "language_info": {
      "name": "python"
    }
  },
  "cells": [
    {
      "cell_type": "markdown",
      "metadata": {
        "id": "view-in-github",
        "colab_type": "text"
      },
      "source": [
        "<a href=\"https://colab.research.google.com/github/ToddWi/Python/blob/main/py12_csv.ipynb\" target=\"_parent\"><img src=\"https://colab.research.google.com/assets/colab-badge.svg\" alt=\"Open In Colab\"/></a>"
      ]
    },
    {
      "cell_type": "markdown",
      "source": [
        "CSV(Comma-Seperated Values) 파일: 쉼표(,)로 값들이 구분된 텍스트 파일."
      ],
      "metadata": {
        "id": "Mn0Vjad7qaMu"
      }
    },
    {
      "cell_type": "markdown",
      "source": [
        "* Colab 연결(가상머신 할당)\n",
        "* Colab에서 Google Drive를 마운트(연결)\n",
        "* Google Drive의 'Colab Notebooks/lab_python 폴더에 csv_exam.csv 파일을 업로드\n",
        "\n",
        "1. csv_exam.csv 파일을 읽기 모드로 open.\n",
        "1. 파일의 첫번째 줄은 컬럼 이름이기 때문에 읽고 추가 작업 없이 건너 뜀.\n",
        "1. 파일의 두번째 줄부터 마지막 줄까지 한 줄씩 읽으면서 반복:\n",
        "    * 각 줄에서 읽은 내용을 쉼표(,)로 구분한 리스트들을 저장하는 리스트를 만듦.\n",
        "    * `[['1', '1', '50', '98, '50], [], [], ... ]`\n",
        "1. 위에서 만들어진 2차원 리스트의 모든 값들을 숫자로 변환\n",
        "1. 2차원 숫자 리스트에서 수학 점수들로만 이루어진 1차원 리스트를 만듦.\n",
        "1. 수학 점수의 평균, 최댓값, 최솟값을 찾음.\n",
        "1. 1반(class=1)학생들의 수학 점수의 총점, 평균, 최댓값, 최솟값을 찾음."
      ],
      "metadata": {
        "id": "YCGNxLwwqcck"
      }
    },
    {
      "cell_type": "code",
      "source": [
        "score_list = []\n",
        "from google.colab import drive\n",
        "drive.mount('/content/drive')"
      ],
      "metadata": {
        "colab": {
          "base_uri": "https://localhost:8080/"
        },
        "id": "sWAlNFwbs4oV",
        "outputId": "17f71a09-ef40-4f2d-cb22-e1cd53ce4dd6"
      },
      "execution_count": null,
      "outputs": [
        {
          "output_type": "stream",
          "name": "stdout",
          "text": [
            "Drive already mounted at /content/drive; to attempt to forcibly remount, call drive.mount(\"/content/drive\", force_remount=True).\n"
          ]
        }
      ]
    },
    {
      "cell_type": "code",
      "source": [
        "dir_path = '/content/drive/MyDrive/Colab Notebooks/lab_python'\n",
        "file_name = 'csv_exam.csv'"
      ],
      "metadata": {
        "id": "mh02FUSNtbSk"
      },
      "execution_count": null,
      "outputs": []
    },
    {
      "cell_type": "code",
      "source": [
        "import os"
      ],
      "metadata": {
        "id": "Bp8rkx3Bt_MM"
      },
      "execution_count": null,
      "outputs": []
    },
    {
      "cell_type": "code",
      "source": [
        "file = os.path.join(dir_path, file_name)\n",
        "file\n",
        "exam=[]"
      ],
      "metadata": {
        "id": "Y0kHMouZuCVL"
      },
      "execution_count": null,
      "outputs": []
    },
    {
      "cell_type": "code",
      "source": [
        "with open(file, mode='rt') as f:\n",
        "    f.readline()\n",
        "    for x in f:\n",
        "      #print(x.strip())\n",
        "      # 읽은 한 줄에서 앞뒤의 공백 문자를 제거하고, 쉼표로 구분된 문자열 리스트를 만듦\n",
        "      temp = x.strip().split(',')\n",
        "      # print(temp)\n",
        "      exam.append(temp) # 리스트 exam에 리스트를 추가(append)\n",
        "    print(exam)"
      ],
      "metadata": {
        "colab": {
          "base_uri": "https://localhost:8080/"
        },
        "id": "BC4POO01uQ1D",
        "outputId": "708dd4b6-7e75-4b86-c12b-c9d885417667"
      },
      "execution_count": null,
      "outputs": [
        {
          "output_type": "stream",
          "name": "stdout",
          "text": [
            "[['1', '1', '50', '98', '50'], ['2', '1', '60', '97', '60'], ['3', '1', '45', '86', '78'], ['4', '1', '30', '98', '58'], ['5', '2', '25', '80', '65'], ['6', '2', '50', '89', '98'], ['7', '2', '80', '90', '45'], ['8', '2', '90', '78', '25'], ['9', '3', '20', '98', '15'], ['10', '3', '50', '98', '45'], ['11', '3', '65', '65', '65'], ['12', '3', '45', '85', '32'], ['13', '4', '46', '98', '65'], ['14', '4', '48', '87', '12'], ['15', '4', '75', '56', '78'], ['16', '4', '58', '98', '65'], ['17', '5', '65', '68', '98'], ['18', '5', '80', '78', '90'], ['19', '5', '89', '68', '87'], ['20', '5', '78', '83', '58']]\n"
          ]
        }
      ]
    },
    {
      "cell_type": "code",
      "source": [
        "with open(file, mode='rt')as f:\n",
        "    f.readline()\n",
        "    exam = [line.strip().split(',') for line in f]"
      ],
      "metadata": {
        "id": "iDl2RGTWwajy"
      },
      "execution_count": null,
      "outputs": []
    },
    {
      "cell_type": "code",
      "source": [
        "exam"
      ],
      "metadata": {
        "colab": {
          "base_uri": "https://localhost:8080/"
        },
        "id": "UOuAo3lvJJ0v",
        "outputId": "a4f39ce5-3f93-4609-82bd-605a3e89c0ea"
      },
      "execution_count": null,
      "outputs": [
        {
          "output_type": "execute_result",
          "data": {
            "text/plain": [
              "[['1', '1', '50', '98', '50'],\n",
              " ['2', '1', '60', '97', '60'],\n",
              " ['3', '1', '45', '86', '78'],\n",
              " ['4', '1', '30', '98', '58'],\n",
              " ['5', '2', '25', '80', '65'],\n",
              " ['6', '2', '50', '89', '98'],\n",
              " ['7', '2', '80', '90', '45'],\n",
              " ['8', '2', '90', '78', '25'],\n",
              " ['9', '3', '20', '98', '15'],\n",
              " ['10', '3', '50', '98', '45'],\n",
              " ['11', '3', '65', '65', '65'],\n",
              " ['12', '3', '45', '85', '32'],\n",
              " ['13', '4', '46', '98', '65'],\n",
              " ['14', '4', '48', '87', '12'],\n",
              " ['15', '4', '75', '56', '78'],\n",
              " ['16', '4', '58', '98', '65'],\n",
              " ['17', '5', '65', '68', '98'],\n",
              " ['18', '5', '80', '78', '90'],\n",
              " ['19', '5', '89', '68', '87'],\n",
              " ['20', '5', '78', '83', '58']]"
            ]
          },
          "metadata": {},
          "execution_count": 14
        }
      ]
    },
    {
      "cell_type": "code",
      "source": [
        "exam2 = [] # 2차원 리스트를 만든다\n",
        "for row in exam:\n",
        "    row_num = [] # 1차원 리스트를 만든다\n",
        "    for x in row:\n",
        "        row_num.append(int(x))\n",
        "    exam2.append(row_num)\n",
        "exam2"
      ],
      "metadata": {
        "colab": {
          "base_uri": "https://localhost:8080/"
        },
        "id": "O3nM0-6PJuNE",
        "outputId": "af72a2d3-40b9-420b-b53d-77f107f904f4"
      },
      "execution_count": null,
      "outputs": [
        {
          "output_type": "execute_result",
          "data": {
            "text/plain": [
              "[[1, 1, 50, 98, 50],\n",
              " [2, 1, 60, 97, 60],\n",
              " [3, 1, 45, 86, 78],\n",
              " [4, 1, 30, 98, 58],\n",
              " [5, 2, 25, 80, 65],\n",
              " [6, 2, 50, 89, 98],\n",
              " [7, 2, 80, 90, 45],\n",
              " [8, 2, 90, 78, 25],\n",
              " [9, 3, 20, 98, 15],\n",
              " [10, 3, 50, 98, 45],\n",
              " [11, 3, 65, 65, 65],\n",
              " [12, 3, 45, 85, 32],\n",
              " [13, 4, 46, 98, 65],\n",
              " [14, 4, 48, 87, 12],\n",
              " [15, 4, 75, 56, 78],\n",
              " [16, 4, 58, 98, 65],\n",
              " [17, 5, 65, 68, 98],\n",
              " [18, 5, 80, 78, 90],\n",
              " [19, 5, 89, 68, 87],\n",
              " [20, 5, 78, 83, 58]]"
            ]
          },
          "metadata": {},
          "execution_count": 15
        }
      ]
    },
    {
      "cell_type": "code",
      "source": [
        "exam2 = []\n",
        "for row in exam:\n",
        "    row_num = [int(x) for x in row]\n",
        "    exam2.append (row_num)\n",
        "exam2"
      ],
      "metadata": {
        "colab": {
          "base_uri": "https://localhost:8080/"
        },
        "id": "JoDf3hxTKg3V",
        "outputId": "2d840feb-c4e5-4259-ab1a-3285b87a4647"
      },
      "execution_count": null,
      "outputs": [
        {
          "output_type": "execute_result",
          "data": {
            "text/plain": [
              "[[1, 1, 50, 98, 50],\n",
              " [2, 1, 60, 97, 60],\n",
              " [3, 1, 45, 86, 78],\n",
              " [4, 1, 30, 98, 58],\n",
              " [5, 2, 25, 80, 65],\n",
              " [6, 2, 50, 89, 98],\n",
              " [7, 2, 80, 90, 45],\n",
              " [8, 2, 90, 78, 25],\n",
              " [9, 3, 20, 98, 15],\n",
              " [10, 3, 50, 98, 45],\n",
              " [11, 3, 65, 65, 65],\n",
              " [12, 3, 45, 85, 32],\n",
              " [13, 4, 46, 98, 65],\n",
              " [14, 4, 48, 87, 12],\n",
              " [15, 4, 75, 56, 78],\n",
              " [16, 4, 58, 98, 65],\n",
              " [17, 5, 65, 68, 98],\n",
              " [18, 5, 80, 78, 90],\n",
              " [19, 5, 89, 68, 87],\n",
              " [20, 5, 78, 83, 58]]"
            ]
          },
          "metadata": {},
          "execution_count": 16
        }
      ]
    },
    {
      "cell_type": "code",
      "source": [
        "math = []\n",
        "for row in exam2:\n",
        "    math.append(row[2])\n",
        "math"
      ],
      "metadata": {
        "colab": {
          "base_uri": "https://localhost:8080/"
        },
        "id": "qtksogwsLhKD",
        "outputId": "accae39a-a5a6-45e4-9aca-a9bb81459d2e"
      },
      "execution_count": null,
      "outputs": [
        {
          "output_type": "execute_result",
          "data": {
            "text/plain": [
              "[50,\n",
              " 60,\n",
              " 45,\n",
              " 30,\n",
              " 25,\n",
              " 50,\n",
              " 80,\n",
              " 90,\n",
              " 20,\n",
              " 50,\n",
              " 65,\n",
              " 45,\n",
              " 46,\n",
              " 48,\n",
              " 75,\n",
              " 58,\n",
              " 65,\n",
              " 80,\n",
              " 89,\n",
              " 78]"
            ]
          },
          "metadata": {},
          "execution_count": 17
        }
      ]
    },
    {
      "cell_type": "code",
      "source": [
        "math = [row[2] for row in exam2]\n",
        "math"
      ],
      "metadata": {
        "colab": {
          "base_uri": "https://localhost:8080/"
        },
        "id": "kxXbZE5AMxLM",
        "outputId": "d8ab579a-2c30-4dc2-e0f6-5f06a91b8961"
      },
      "execution_count": null,
      "outputs": [
        {
          "output_type": "execute_result",
          "data": {
            "text/plain": [
              "[50,\n",
              " 60,\n",
              " 45,\n",
              " 30,\n",
              " 25,\n",
              " 50,\n",
              " 80,\n",
              " 90,\n",
              " 20,\n",
              " 50,\n",
              " 65,\n",
              " 45,\n",
              " 46,\n",
              " 48,\n",
              " 75,\n",
              " 58,\n",
              " 65,\n",
              " 80,\n",
              " 89,\n",
              " 78]"
            ]
          },
          "metadata": {},
          "execution_count": 18
        }
      ]
    },
    {
      "cell_type": "code",
      "source": [
        "sum(math) / len(math) # 수학 평균\n"
      ],
      "metadata": {
        "colab": {
          "base_uri": "https://localhost:8080/"
        },
        "id": "0rHKPXSxNEE7",
        "outputId": "bcce05cf-7a97-4f2d-cc12-571ec25e8610"
      },
      "execution_count": null,
      "outputs": [
        {
          "output_type": "execute_result",
          "data": {
            "text/plain": [
              "57.45"
            ]
          },
          "metadata": {},
          "execution_count": 19
        }
      ]
    },
    {
      "cell_type": "code",
      "source": [
        "max(math)"
      ],
      "metadata": {
        "colab": {
          "base_uri": "https://localhost:8080/"
        },
        "id": "Aqw1VhfjNJPf",
        "outputId": "3a7263ed-8cfb-4de4-dcf1-c92094252ce2"
      },
      "execution_count": null,
      "outputs": [
        {
          "output_type": "execute_result",
          "data": {
            "text/plain": [
              "90"
            ]
          },
          "metadata": {},
          "execution_count": 20
        }
      ]
    },
    {
      "cell_type": "code",
      "source": [
        "min(math)"
      ],
      "metadata": {
        "colab": {
          "base_uri": "https://localhost:8080/"
        },
        "id": "OTn3h0TANKju",
        "outputId": "7d038f5d-b3a8-4f24-c16f-53890b0cc677"
      },
      "execution_count": null,
      "outputs": [
        {
          "output_type": "execute_result",
          "data": {
            "text/plain": [
              "20"
            ]
          },
          "metadata": {},
          "execution_count": 21
        }
      ]
    },
    {
      "cell_type": "code",
      "source": [
        "# 1반(class=1) 학생들의 수학 점수\n",
        "math_class1 = math[:4] # 20명 학생들 중 앞에서 4명\n",
        "math_class1"
      ],
      "metadata": {
        "colab": {
          "base_uri": "https://localhost:8080/"
        },
        "id": "kTaNKQ1sNnez",
        "outputId": "667e3b09-47e8-42d6-be70-dfa7b15b1d0e"
      },
      "execution_count": null,
      "outputs": [
        {
          "output_type": "execute_result",
          "data": {
            "text/plain": [
              "[50, 60, 45, 30]"
            ]
          },
          "metadata": {},
          "execution_count": 22
        }
      ]
    },
    {
      "cell_type": "code",
      "source": [
        "math_class1 = []\n",
        "for row in exam2:\n",
        "    if row[1] == 1: # class 값이 1인 경우\n",
        "      math_class1.append(row[2]) # 수학 점수를 append\n",
        "math_class1"
      ],
      "metadata": {
        "colab": {
          "base_uri": "https://localhost:8080/"
        },
        "id": "gv38RQ9GOuvU",
        "outputId": "b17830ce-7136-4252-fcb8-a5c8c153d3aa"
      },
      "execution_count": null,
      "outputs": [
        {
          "output_type": "execute_result",
          "data": {
            "text/plain": [
              "[50, 60, 45, 30]"
            ]
          },
          "metadata": {},
          "execution_count": 23
        }
      ]
    },
    {
      "cell_type": "code",
      "source": [
        "math_class1 = [row[2] for row in exam2 if row[1] ==1]\n",
        "math_class1"
      ],
      "metadata": {
        "colab": {
          "base_uri": "https://localhost:8080/"
        },
        "id": "fZJy0i-oPHbC",
        "outputId": "c7c82968-33b4-47f6-be4a-2fd0a733fcf2"
      },
      "execution_count": null,
      "outputs": [
        {
          "output_type": "execute_result",
          "data": {
            "text/plain": [
              "[50, 60, 45, 30]"
            ]
          },
          "metadata": {},
          "execution_count": 24
        }
      ]
    }
  ]
}