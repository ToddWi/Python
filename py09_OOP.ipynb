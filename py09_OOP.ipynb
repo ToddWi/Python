{
  "nbformat": 4,
  "nbformat_minor": 0,
  "metadata": {
    "colab": {
      "provenance": [],
      "include_colab_link": true
    },
    "kernelspec": {
      "name": "python3",
      "display_name": "Python 3"
    },
    "language_info": {
      "name": "python"
    }
  },
  "cells": [
    {
      "cell_type": "markdown",
      "metadata": {
        "id": "view-in-github",
        "colab_type": "text"
      },
      "source": [
        "<a href=\"https://colab.research.google.com/github/ToddWi/Python/blob/main/py09_OOP.ipynb\" target=\"_parent\"><img src=\"https://colab.research.google.com/assets/colab-badge.svg\" alt=\"Open In Colab\"/></a>"
      ]
    },
    {
      "cell_type": "markdown",
      "source": [
        "# 객체 지향 프로그래밍(OOP: Object-Oriented Programing)"
      ],
      "metadata": {
        "id": "pnp0ODGzz1zb"
      }
    },
    {
      "cell_type": "code",
      "execution_count": null,
      "metadata": {
        "id": "qOUZhtkRzrvD"
      },
      "outputs": [],
      "source": [
        "class Student:\n",
        "    # 생성자 함수: 생성자를 호출하면 파이썬 인터프리터에 의해서 자동으로 호출되는 메서드.\n",
        "    def __init__(self, no, name, python, java, javascript):\n",
        "        self.no = no\n",
        "        self.name = name\n",
        "        self.python = python\n",
        "        self.java = java\n",
        "        self.javascript = javascript\n",
        "\n",
        "    def get_total(self):\n",
        "        # 파이썬의 메서드는 멤버들을 접근할 때 반드시 self 키워드를 사용해야 함.\n",
        "        return self.python + self.java + self.javascript\n",
        "\n",
        "    def get_mean(self):\n",
        "        return self.get_total() / 3\n",
        "\n",
        "    def print_info(self):\n",
        "        print(f'Student(번호={self.no}, 이름={self.name}, python={self.python}, java={self.java}, javascript={self.javascript})')"
      ]
    },
    {
      "cell_type": "code",
      "source": [
        "# Student 타입의 객체 생성\n",
        "student1 = Student(1, '홍길동', 100, 90, 50)  # 생성자 호출: 생성자 이름-클래스 이름, new 키워드를 사용하지 않음."
      ],
      "metadata": {
        "id": "3S3rww1n14y8"
      },
      "execution_count": null,
      "outputs": []
    },
    {
      "cell_type": "code",
      "source": [
        "print(student1)  # 객체 student1을 문자열로 출력"
      ],
      "metadata": {
        "colab": {
          "base_uri": "https://localhost:8080/"
        },
        "id": "hGsU-Owu4OmD",
        "outputId": "de28cc14-90c2-4142-ecde-8009f30b214a"
      },
      "execution_count": null,
      "outputs": [
        {
          "output_type": "stream",
          "name": "stdout",
          "text": [
            "<__main__.Student object at 0x7f4aa1f471c0>\n"
          ]
        }
      ]
    },
    {
      "cell_type": "code",
      "source": [
        "student1  # 객체 students1의 식(expression)을 출력"
      ],
      "metadata": {
        "colab": {
          "base_uri": "https://localhost:8080/"
        },
        "id": "bI2k7KQO4RAT",
        "outputId": "ddcaad38-ca3c-46c9-e22b-c753ac12c466"
      },
      "execution_count": null,
      "outputs": [
        {
          "output_type": "execute_result",
          "data": {
            "text/plain": [
              "<__main__.Student at 0x7f4aa1f471c0>"
            ]
          },
          "metadata": {},
          "execution_count": 4
        }
      ]
    },
    {
      "cell_type": "code",
      "source": [
        "student1.no"
      ],
      "metadata": {
        "colab": {
          "base_uri": "https://localhost:8080/"
        },
        "id": "-mD_Xb5M4oBj",
        "outputId": "50857d6f-e749-4002-b966-2375fd8c44cb"
      },
      "execution_count": null,
      "outputs": [
        {
          "output_type": "execute_result",
          "data": {
            "text/plain": [
              "1"
            ]
          },
          "metadata": {},
          "execution_count": 5
        }
      ]
    },
    {
      "cell_type": "code",
      "source": [
        "student1.name"
      ],
      "metadata": {
        "colab": {
          "base_uri": "https://localhost:8080/",
          "height": 35
        },
        "id": "PoOt0GdH5tz7",
        "outputId": "553bd2be-79ef-4701-bb17-b8670b3d33d1"
      },
      "execution_count": null,
      "outputs": [
        {
          "output_type": "execute_result",
          "data": {
            "text/plain": [
              "'홍길동'"
            ],
            "application/vnd.google.colaboratory.intrinsic+json": {
              "type": "string"
            }
          },
          "metadata": {},
          "execution_count": 6
        }
      ]
    },
    {
      "cell_type": "code",
      "source": [
        "student1.get_total()"
      ],
      "metadata": {
        "colab": {
          "base_uri": "https://localhost:8080/"
        },
        "id": "ffemiVmF7VJh",
        "outputId": "5240e165-18a5-4646-9eac-c8226201b5c3"
      },
      "execution_count": null,
      "outputs": [
        {
          "output_type": "execute_result",
          "data": {
            "text/plain": [
              "240"
            ]
          },
          "metadata": {},
          "execution_count": 7
        }
      ]
    },
    {
      "cell_type": "code",
      "source": [
        "student1.get_mean()"
      ],
      "metadata": {
        "colab": {
          "base_uri": "https://localhost:8080/"
        },
        "id": "O5pNE7vo9Gyy",
        "outputId": "1b085cf5-b21b-4f1e-daeb-53d1a778fb47"
      },
      "execution_count": null,
      "outputs": [
        {
          "output_type": "execute_result",
          "data": {
            "text/plain": [
              "80.0"
            ]
          },
          "metadata": {},
          "execution_count": 8
        }
      ]
    },
    {
      "cell_type": "code",
      "source": [
        "student1.print_info()"
      ],
      "metadata": {
        "colab": {
          "base_uri": "https://localhost:8080/"
        },
        "id": "PxFa9vU59NQz",
        "outputId": "0d10618b-70eb-4c87-d707-3dc9de97c0a4"
      },
      "execution_count": null,
      "outputs": [
        {
          "output_type": "stream",
          "name": "stdout",
          "text": [
            "Student(번호=1, 이름=홍길동, python=100, java=90, javascript=50)\n"
          ]
        }
      ]
    },
    {
      "cell_type": "code",
      "source": [
        "import math\n",
        "# math 모듈을 임포트 -> math.sqrt()"
      ],
      "metadata": {
        "id": "gxqO4s49Bi05"
      },
      "execution_count": null,
      "outputs": []
    },
    {
      "cell_type": "markdown",
      "source": [
        "*  class: Point\n",
        "    *  2차원 평면의 점의 좌표 (x, y)를 표현하는 클래스.\n",
        "*  생성자 함수: x, y를 초기화. x, y의 기본값은 0.\n",
        "*  메서드:\n",
        "    *  move: 점의 좌표를 원래 위치에서 dx, dy만큼 이동시키는 메서드.\n",
        "    *  distance: 현재 점의 위치에서 다른 점까지의 거리를 계산해서 리턴하는 메서드.\n",
        "        *  `sqrt((x1 - x2)**2 + (y1 - y2)**2)`\n",
        "        \n",
        ">>> $ \\sqrt{(x_1 - x_2)^2 + (y_1 - y_2)^2} $"
      ],
      "metadata": {
        "id": "xAnjrhVyBhWZ"
      }
    },
    {
      "cell_type": "code",
      "source": [
        "class Point:\n",
        "    def __init__(self, x=0, y=0):\n",
        "        self.x = x\n",
        "        self.y = y\n",
        "\n",
        "    def move(self, dx, dy):\n",
        "        self.x += dx\n",
        "        self.y += dy\n",
        "\n",
        "    def distance(self, pt):\n",
        "        return math.sqrt((self.x - pt.x) ** 2 + (self.y - pt.y) ** 2)"
      ],
      "metadata": {
        "id": "xkTGfnh0Gc0q"
      },
      "execution_count": null,
      "outputs": []
    },
    {
      "cell_type": "code",
      "source": [
        "pt1 = Point()  # 생성자 함수의 default argument 사용\n",
        "pt1"
      ],
      "metadata": {
        "colab": {
          "base_uri": "https://localhost:8080/"
        },
        "id": "QPBLab98ICTR",
        "outputId": "dd461c31-6e19-4b06-ff2f-1ba01e988c72"
      },
      "execution_count": null,
      "outputs": [
        {
          "output_type": "execute_result",
          "data": {
            "text/plain": [
              "<__main__.Point at 0x7f4aa1f47df0>"
            ]
          },
          "metadata": {},
          "execution_count": 12
        }
      ]
    },
    {
      "cell_type": "code",
      "source": [
        "print(f'x={pt1.x}, y={pt1.y}')"
      ],
      "metadata": {
        "colab": {
          "base_uri": "https://localhost:8080/"
        },
        "id": "N9VSKT99IUZY",
        "outputId": "2820c0f0-aa9c-4729-adc8-b7b0e39d95f3"
      },
      "execution_count": null,
      "outputs": [
        {
          "output_type": "stream",
          "name": "stdout",
          "text": [
            "x=0, y=0\n"
          ]
        }
      ]
    },
    {
      "cell_type": "code",
      "source": [
        "pt1.move(1, 1)\n",
        "print(f'x={pt1.x}, y={pt1.y}')"
      ],
      "metadata": {
        "colab": {
          "base_uri": "https://localhost:8080/"
        },
        "id": "cNe8rlyBI5NB",
        "outputId": "6e7262aa-4dc1-4d29-d305-22af6be085e9"
      },
      "execution_count": null,
      "outputs": [
        {
          "output_type": "stream",
          "name": "stdout",
          "text": [
            "x=1, y=1\n"
          ]
        }
      ]
    },
    {
      "cell_type": "code",
      "source": [
        "pt2 = Point(1, 2)\n",
        "print(f'x={pt2.x}, y={pt2.y}')"
      ],
      "metadata": {
        "colab": {
          "base_uri": "https://localhost:8080/"
        },
        "id": "7Qw47U0nJAjo",
        "outputId": "19eb95ee-7d87-40c9-c4fa-237eaa1ed665"
      },
      "execution_count": null,
      "outputs": [
        {
          "output_type": "stream",
          "name": "stdout",
          "text": [
            "x=1, y=2\n"
          ]
        }
      ]
    },
    {
      "cell_type": "code",
      "source": [
        "pt1.distance(pt2)"
      ],
      "metadata": {
        "colab": {
          "base_uri": "https://localhost:8080/"
        },
        "id": "xEUxuSFBJRbY",
        "outputId": "033c34b9-f2b0-4a73-9133-67809bddd74f"
      },
      "execution_count": null,
      "outputs": [
        {
          "output_type": "execute_result",
          "data": {
            "text/plain": [
              "1.0"
            ]
          },
          "metadata": {},
          "execution_count": 16
        }
      ]
    },
    {
      "cell_type": "markdown",
      "source": [
        "# magic method"
      ],
      "metadata": {
        "id": "_qMdxDAtOs3f"
      }
    },
    {
      "cell_type": "markdown",
      "source": [
        "모든 클래스가 같은 이름으로 가지고 있는 메서드.\n",
        "\n",
        "특별한 경우에 파이썬 인터프리터에 의해서 호출되는 메서드.\n",
        "\n",
        "*  `__init__()`:\n",
        "    *  생성자를 호출하면 자동으로 호출되는 메서드.\n",
        "    *  인스턴스의 필드(프로퍼티)들을 선언하고 초기화하는 메서드.\n",
        "*  `__str__()`:\n",
        "    *  `print()`함수의 아규먼트 객체일 때 자동으로 호출되는 메서드.\n",
        "    *  문자열을 리턴하는 메서드.\n",
        "*  `__repr__()`: representation.\n",
        "    *  식(expression)을 출력할 때 자동으로 호출되는 메서드.\n",
        "    *  `print()` 함수의 동작 방식:\n",
        "        *  객체를 출력하기 위해서, 그 객체의 `__str__()` 메서드를 호출함.\n",
        "        *  `__str__()` 메서드가 없는 경우에는, `__repr__()` 메서드를 호출함.\n",
        "        *  `__str__()` 메서드와 `__repr__()` 메서드가 모두 없는 경우에는, 기본 문자열 (... object at 0x....)로 출력."
      ],
      "metadata": {
        "id": "EZ9wQ8LSOwcX"
      }
    },
    {
      "cell_type": "code",
      "source": [
        "class T:\n",
        "    def __str__(self):\n",
        "        return 'class T instance'\n",
        "\n",
        "    def __repr__(self):\n",
        "        return 'T'"
      ],
      "metadata": {
        "id": "uDs743TERVY4"
      },
      "execution_count": null,
      "outputs": []
    },
    {
      "cell_type": "code",
      "source": [
        "t = T()  # 생성자 호출 -> __init__() 메서드 호출"
      ],
      "metadata": {
        "id": "kJZsfsKxRZAA"
      },
      "execution_count": null,
      "outputs": []
    },
    {
      "cell_type": "code",
      "source": [
        "print(t)  # __str__() 메서드 자동 호출"
      ],
      "metadata": {
        "colab": {
          "base_uri": "https://localhost:8080/"
        },
        "id": "_L5ZUOHGRsUw",
        "outputId": "f89802c1-4325-456e-d835-afd24faa550f"
      },
      "execution_count": null,
      "outputs": [
        {
          "output_type": "stream",
          "name": "stdout",
          "text": [
            "class T instance\n"
          ]
        }
      ]
    },
    {
      "cell_type": "code",
      "source": [
        "t  # __repr__() 메서드 자동 호출"
      ],
      "metadata": {
        "colab": {
          "base_uri": "https://localhost:8080/"
        },
        "id": "m8-tJ_6rRtH_",
        "outputId": "52644e7a-b1db-4243-b2ea-6f58da73611d"
      },
      "execution_count": null,
      "outputs": [
        {
          "output_type": "execute_result",
          "data": {
            "text/plain": [
              "T"
            ]
          },
          "metadata": {},
          "execution_count": 20
        }
      ]
    },
    {
      "cell_type": "markdown",
      "source": [
        "*  `__eq__()`: eqaul\n",
        "    *  `==` 연산자를 사용했을 때 자동으로 호출되는 메서드.\n",
        "    *  두 객체가 같은 지(True) 다른 지(False)를 리턴."
      ],
      "metadata": {
        "id": "EaElaHDGT4yP"
      }
    },
    {
      "cell_type": "code",
      "source": [
        "list1 = [1, 2, 3]\n",
        "list2 = [1, 2, 3]\n",
        "list1 == list2  # list 클래스가 __eq__ 메서드를 구현하고 있기 때문에."
      ],
      "metadata": {
        "colab": {
          "base_uri": "https://localhost:8080/"
        },
        "id": "dVEzZAn6T4TX",
        "outputId": "da22ff63-49be-4ece-bea2-5d1828e06f3b"
      },
      "execution_count": null,
      "outputs": [
        {
          "output_type": "execute_result",
          "data": {
            "text/plain": [
              "True"
            ]
          },
          "metadata": {},
          "execution_count": 21
        }
      ]
    },
    {
      "cell_type": "code",
      "source": [
        "class Number:\n",
        "    def __init__(self, n):\n",
        "        self.n = n\n",
        "\n",
        "    def __repr__(self):\n",
        "        return str(self.n)\n",
        "\n",
        "    def __eq__(self, other):\n",
        "        return self.n == other.n"
      ],
      "metadata": {
        "id": "EtuVuvRqU224"
      },
      "execution_count": null,
      "outputs": []
    },
    {
      "cell_type": "code",
      "source": [
        "n1 = Number(1)\n",
        "n1"
      ],
      "metadata": {
        "colab": {
          "base_uri": "https://localhost:8080/"
        },
        "id": "6n6DF_XlVtR_",
        "outputId": "49d469bf-6a79-4685-8392-fff03442c1d2"
      },
      "execution_count": null,
      "outputs": [
        {
          "output_type": "execute_result",
          "data": {
            "text/plain": [
              "1"
            ]
          },
          "metadata": {},
          "execution_count": 23
        }
      ]
    },
    {
      "cell_type": "code",
      "source": [
        "n2 = Number(1)\n",
        "n2"
      ],
      "metadata": {
        "colab": {
          "base_uri": "https://localhost:8080/"
        },
        "id": "hnOwHqE5VzjP",
        "outputId": "b8565513-08a4-4f3d-c719-eb1fbb5927e5"
      },
      "execution_count": null,
      "outputs": [
        {
          "output_type": "execute_result",
          "data": {
            "text/plain": [
              "1"
            ]
          },
          "metadata": {},
          "execution_count": 24
        }
      ]
    },
    {
      "cell_type": "markdown",
      "source": [
        "# Exercise\n",
        "\n",
        "* class Score\n",
        "  * 프로퍼티: korean, math, science (int 타입)\n",
        "  * 메서드: __init__, __repr__, __eq__, get_total, get_mean\n",
        "\n",
        "* class Student\n",
        "  * 프로퍼티: no(int), name(str), score(Score)\n",
        "  * 메서드: __init__, __repr__\n"
      ],
      "metadata": {
        "id": "u0YyU8NdopTd"
      }
    },
    {
      "cell_type": "code",
      "source": [
        "class Score:\n",
        "    def __init__(self, korean=0, math=0, science=0): # 모든 파라미터가 디폴트 값 0을 가지고 있다.\n",
        "        self.korean = korean\n",
        "        self.math = math\n",
        "        self.science = science\n",
        "\n",
        "    def __repr__(self): # representation\n",
        "        return f'Score(korean={self.korean}, math={self.math}, science={self.science})'\n",
        "\n",
        "    def __eq__(self, other):\n",
        "        return  (self.korean == other.korean and  # \"\\\"를 쓰면 문장이 아직 끝나지 않았음을 의미.\n",
        "                self.math == other.math and\n",
        "                self.science == other.science)\n",
        "\n",
        "    def get_total(self):\n",
        "        return self.korean + self.math + self.science\n",
        "\n",
        "    def get_mean(self):\n",
        "        return self.get_total() / 3"
      ],
      "metadata": {
        "id": "6TkleblrtTem"
      },
      "execution_count": null,
      "outputs": []
    },
    {
      "cell_type": "code",
      "source": [
        "score1 = Score()\n",
        "score1"
      ],
      "metadata": {
        "colab": {
          "base_uri": "https://localhost:8080/"
        },
        "id": "CIfJkC8IwdRU",
        "outputId": "0c7fd33a-db04-4335-b6e7-db7c807102c1"
      },
      "execution_count": null,
      "outputs": [
        {
          "output_type": "execute_result",
          "data": {
            "text/plain": [
              "Score(korean=0, math=0, science=0)"
            ]
          },
          "metadata": {},
          "execution_count": 29
        }
      ]
    },
    {
      "cell_type": "code",
      "source": [
        "score2 = Score(90, 80, 50)\n",
        "score2"
      ],
      "metadata": {
        "colab": {
          "base_uri": "https://localhost:8080/"
        },
        "id": "LBrpFSQSwkCD",
        "outputId": "e87868ba-aa22-4fa3-f15b-3ae38684380f"
      },
      "execution_count": null,
      "outputs": [
        {
          "output_type": "execute_result",
          "data": {
            "text/plain": [
              "Score(korean=90, math=80, science=50)"
            ]
          },
          "metadata": {},
          "execution_count": 31
        }
      ]
    },
    {
      "cell_type": "code",
      "source": [
        "score3 = Score(math=100)\n",
        "score3"
      ],
      "metadata": {
        "colab": {
          "base_uri": "https://localhost:8080/"
        },
        "id": "PiDRlxayw0uj",
        "outputId": "5e820401-3776-4731-9f97-fb83ac241915"
      },
      "execution_count": null,
      "outputs": [
        {
          "output_type": "execute_result",
          "data": {
            "text/plain": [
              "Score(korean=0, math=100, science=0)"
            ]
          },
          "metadata": {},
          "execution_count": 33
        }
      ]
    },
    {
      "cell_type": "code",
      "source": [
        "score1 == score2"
      ],
      "metadata": {
        "colab": {
          "base_uri": "https://localhost:8080/"
        },
        "id": "QZfwUfEoxIRd",
        "outputId": "c7a6ed8e-bf64-465c-a4e0-b4aae30f80d0"
      },
      "execution_count": null,
      "outputs": [
        {
          "output_type": "execute_result",
          "data": {
            "text/plain": [
              "False"
            ]
          },
          "metadata": {},
          "execution_count": 36
        }
      ]
    },
    {
      "cell_type": "code",
      "source": [
        "score4 = Score(math=80, science=50, korean=90)\n",
        "score4"
      ],
      "metadata": {
        "colab": {
          "base_uri": "https://localhost:8080/"
        },
        "id": "lqpTZiUFyHxK",
        "outputId": "f110b3fa-d650-4415-c12d-a31c8041446c"
      },
      "execution_count": null,
      "outputs": [
        {
          "output_type": "execute_result",
          "data": {
            "text/plain": [
              "Score(korean=90, math=80, science=50)"
            ]
          },
          "metadata": {},
          "execution_count": 40
        }
      ]
    },
    {
      "cell_type": "code",
      "source": [
        "score2 == score4"
      ],
      "metadata": {
        "colab": {
          "base_uri": "https://localhost:8080/"
        },
        "id": "SowusVsKyRZ7",
        "outputId": "7e67953d-1b60-4a6b-98ac-4cffbbbedc65"
      },
      "execution_count": null,
      "outputs": [
        {
          "output_type": "execute_result",
          "data": {
            "text/plain": [
              "True"
            ]
          },
          "metadata": {},
          "execution_count": 43
        }
      ]
    },
    {
      "cell_type": "code",
      "source": [
        "score4.get_mean()"
      ],
      "metadata": {
        "colab": {
          "base_uri": "https://localhost:8080/"
        },
        "id": "kiKU-stYy6sq",
        "outputId": "36eef3ce-1a4a-4edd-8541-abf043b872a3"
      },
      "execution_count": null,
      "outputs": [
        {
          "output_type": "execute_result",
          "data": {
            "text/plain": [
              "73.33333333333333"
            ]
          },
          "metadata": {},
          "execution_count": 45
        }
      ]
    },
    {
      "cell_type": "code",
      "source": [
        "class Student:\n",
        "    def __init__(self, no, name, score):\n",
        "        self.no = no\n",
        "        self.name = name\n",
        "        self.score = score\n",
        "\n",
        "    def __repr__(self):\n",
        "        return f'Student(no={self.no}, name={self.name}, score={self.score})'\n"
      ],
      "metadata": {
        "id": "hKCpFgnazGY6"
      },
      "execution_count": null,
      "outputs": []
    },
    {
      "cell_type": "code",
      "source": [
        "student1 = Student(1, '오쌤', score1)\n",
        "student1"
      ],
      "metadata": {
        "colab": {
          "base_uri": "https://localhost:8080/"
        },
        "id": "D-1r-zPizsZK",
        "outputId": "2fe75fed-2f65-4bd1-c1cd-dfeece6ecf76"
      },
      "execution_count": null,
      "outputs": [
        {
          "output_type": "execute_result",
          "data": {
            "text/plain": [
              "Student(no=1, name=오쌤, score=Score(korean=0, math=0, science=0))"
            ]
          },
          "metadata": {},
          "execution_count": 50
        }
      ]
    },
    {
      "cell_type": "code",
      "source": [
        "student2 = Student(2, '홍길동', Score())\n",
        "student2"
      ],
      "metadata": {
        "colab": {
          "base_uri": "https://localhost:8080/"
        },
        "id": "FoEisX9L0BsK",
        "outputId": "eb1dbe6d-d32c-4073-ed9d-8495ab056d63"
      },
      "execution_count": null,
      "outputs": [
        {
          "output_type": "execute_result",
          "data": {
            "text/plain": [
              "Student(no=2, name=홍길동, score=Score(korean=0, math=0, science=0))"
            ]
          },
          "metadata": {},
          "execution_count": 52
        }
      ]
    },
    {
      "cell_type": "code",
      "source": [
        "student1.score == student2.score\n",
        "# student1.score.__eq__(student2.score)"
      ],
      "metadata": {
        "colab": {
          "base_uri": "https://localhost:8080/"
        },
        "id": "Nwero0xA0UrK",
        "outputId": "68153838-4b5a-49a2-cb02-37ce23a36dc8"
      },
      "execution_count": null,
      "outputs": [
        {
          "output_type": "execute_result",
          "data": {
            "text/plain": [
              "True"
            ]
          },
          "metadata": {},
          "execution_count": 54
        }
      ]
    },
    {
      "cell_type": "markdown",
      "source": [
        "# 상속(Inhertance)"
      ],
      "metadata": {
        "id": "mt221v176eiI"
      }
    },
    {
      "cell_type": "markdown",
      "source": [],
      "metadata": {
        "id": "ODcuvw1I6gxn"
      }
    },
    {
      "cell_type": "markdown",
      "source": [
        "* super Class(상위 클래스), parent class(부모 클래스), base class(기본 클래스)\n",
        "* sub class(하위 클래스), child class(자식 클래스), derived class(유도 클래스)\n",
        "* 상속: 상위 클래스의 속성(데이터)들과 기능(메서드)들을 하위 클래스에서 재사용하는 것.\n",
        "* 일반적으로 **IS-A** 관계가 성립하는 객체들을 상속을 사용해서 구현함.\n",
        "  * 학생은 사람이다(Student IS A Person)"
      ],
      "metadata": {
        "id": "HL5WbcfS6cVw"
      }
    },
    {
      "cell_type": "code",
      "source": [
        "class Person:\n",
        "    def __init__(self, name, age = 0):\n",
        "      self.name = name\n",
        "      self.age = age\n",
        "\n",
        "    def hello(self):\n",
        "        print(f'안녕하세요, 저는 {self.name}입니다. 나이는 {self.age}입니다.')\n",
        "\n",
        "\n"
      ],
      "metadata": {
        "id": "rczLiOTN7cGx"
      },
      "execution_count": null,
      "outputs": []
    },
    {
      "cell_type": "code",
      "source": [
        "gildong = Person('홍길동')\n",
        "gildong.hello()"
      ],
      "metadata": {
        "colab": {
          "base_uri": "https://localhost:8080/"
        },
        "id": "PQm10MEO8zf_",
        "outputId": "0c5829ce-d40d-448a-c3ed-ac8c7a881dd3"
      },
      "execution_count": null,
      "outputs": [
        {
          "output_type": "stream",
          "name": "stdout",
          "text": [
            "안녕하세요, 저는 홍길동입니다. 나이는 0입니다.\n"
          ]
        }
      ]
    },
    {
      "cell_type": "code",
      "source": [
        "# Person을 상속하는 Student 클래스 정의\n",
        "#\n",
        "class Student(Person):\n",
        "  # method override\n",
        "  def __init__(self, name, age=0, school='Test'):\n",
        "    # 하위 클래스에서 상위 클래스의 메서드를 호출:\n",
        "    super().__init__(name, age)\n",
        "    self.school = school\n",
        "\n",
        "  # hello method override\n",
        "  def hello(self):\n",
        "      super().hello()\n",
        "      print(f'학교는 {self.school}입니다.')\n"
      ],
      "metadata": {
        "id": "ZeRajMD_88XH"
      },
      "execution_count": null,
      "outputs": []
    },
    {
      "cell_type": "code",
      "source": [
        "stu = Student(name='오쌤', age=16, school='아이티윌')"
      ],
      "metadata": {
        "id": "TV7oAEmh_uSg"
      },
      "execution_count": null,
      "outputs": []
    },
    {
      "cell_type": "code",
      "source": [
        "stu.hello()"
      ],
      "metadata": {
        "colab": {
          "base_uri": "https://localhost:8080/"
        },
        "id": "uoy3t-tK_3dd",
        "outputId": "c921492e-ceb6-4ea7-d47d-1785e304fdf2"
      },
      "execution_count": null,
      "outputs": [
        {
          "output_type": "stream",
          "name": "stdout",
          "text": [
            "안녕하세요, 저는 오쌤입니다. 나이는 16입니다.\n",
            "학교는 아이티윌입니다.\n"
          ]
        }
      ]
    },
    {
      "cell_type": "markdown",
      "source": [
        "\n",
        "\n",
        "# Method Override\n",
        "\n",
        "  * 상위 클래스의 메서드를 하위 클래스에서 재정의하는 것.\n",
        "    * 파이썬에서는 메서드의 이름만 같으면(파라미터 타입/개수와 상관 없이)메서드가 재정의 됨.\n",
        "        * 파이썬은 같은 이름으로 2개 이상의 메서드(함수)를 가질 수 없음 - overloading은 제공하지 않음.\n",
        "      * 자바에서는 메서드 이름, 파라미터 타입/개수/순서가 모두 동일한 경우에 메서드가 재정의됨.\n",
        "        * 파라미터가 다르면 같은 이름의 메서드가 2개 이상 있을 수 있음 - overloading\n",
        "      * 하위 클래스에서 재정의(overrid)된 상위 클래스의 메서드를 명시적으로 호출하기 위해서는 super().method_name(...)의 형식으로 호출함."
      ],
      "metadata": {
        "id": "0BQSKg_aFuWW"
      }
    },
    {
      "cell_type": "code",
      "source": [
        "def a():\n",
        "    print('a')\n",
        "\n",
        "def a(msg):\n",
        "    print(msg)\n",
        "\n",
        "a('test')"
      ],
      "metadata": {
        "colab": {
          "base_uri": "https://localhost:8080/"
        },
        "id": "x81Cd0KgFFp_",
        "outputId": "ab6e83d9-d7ab-40b1-b979-f4de6524df00"
      },
      "execution_count": null,
      "outputs": [
        {
          "output_type": "stream",
          "name": "stdout",
          "text": [
            "test\n"
          ]
        }
      ]
    },
    {
      "cell_type": "markdown",
      "source": [
        " 파이썬은 함수(메서드) 오버로딩을 제공하지 않음.\n",
        "\n",
        " 파라미터가 다르다고 해서 같은 이름으로 함수(메서드)를 정의할 수 없음.\n",
        "\n",
        " 같은 이름으로 함수를 정의하면, 가장 마지막에서 정의한 함수만 남음.\n",
        "\n",
        " 파이썬은 함수(메서드) 오버로딩 대신에, default argument를 이용하면, 같은 이름의 함수를 여러가지 방법으로 호출할 수 있음(오버로딩과 비슷한 기능)\n"
      ],
      "metadata": {
        "id": "s-p-Q_5AGGBO"
      }
    },
    {
      "cell_type": "code",
      "source": [
        "def a(msg='a'):\n",
        "    print(msg)\n",
        "\n",
        "a()\n",
        "\n",
        "a('TEST')"
      ],
      "metadata": {
        "colab": {
          "base_uri": "https://localhost:8080/"
        },
        "id": "t8OJuobMGK72",
        "outputId": "70350e08-8170-49ff-8470-5015d4568663"
      },
      "execution_count": null,
      "outputs": [
        {
          "output_type": "stream",
          "name": "stdout",
          "text": [
            "a\n",
            "TEST\n"
          ]
        }
      ]
    }
  ]
}